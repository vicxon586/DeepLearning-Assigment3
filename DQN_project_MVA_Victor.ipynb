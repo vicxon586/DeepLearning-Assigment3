{
 "cells": [
  {
   "cell_type": "markdown",
   "metadata": {},
   "source": [
    "**You may need to install [OpenCV](https://pypi.python.org/pypi/opencv-python) and [scikit-video](http://www.scikit-video.org/stable/).**"
   ]
  },
  {
   "cell_type": "code",
   "execution_count": 1,
   "metadata": {},
   "outputs": [
    {
     "name": "stderr",
     "output_type": "stream",
     "text": [
      "C:\\ProgramData\\Anaconda3\\lib\\site-packages\\h5py\\__init__.py:36: FutureWarning: Conversion of the second argument of issubdtype from `float` to `np.floating` is deprecated. In future, it will be treated as `np.float64 == np.dtype(float).type`.\n",
      "  from ._conv import register_converters as _register_converters\n",
      "Using TensorFlow backend.\n"
     ]
    }
   ],
   "source": [
    "import keras\n",
    "import numpy as np\n",
    "import io\n",
    "import base64\n",
    "from IPython.display import HTML\n",
    "import skvideo.io\n",
    "import cv2\n",
    "import json\n",
    "import os\n",
    "\n",
    "from keras.models import Sequential,model_from_json, Model\n",
    "from keras.layers.core import Dense\n",
    "from keras.optimizers import sgd\n",
    "from keras.layers import Conv2D, MaxPooling2D, Activation, AveragePooling2D,Reshape,BatchNormalization, Flatten, Input, Dense\n"
   ]
  },
  {
   "cell_type": "code",
   "execution_count": 2,
   "metadata": {},
   "outputs": [
    {
     "name": "stdout",
     "output_type": "stream",
     "text": [
      "C:\\ProgramData\\Anaconda3\\lib\\site-packages\\skvideo\\__init__.py\n"
     ]
    }
   ],
   "source": [
    "print(skvideo.__file__)"
   ]
  },
  {
   "cell_type": "markdown",
   "metadata": {},
   "source": [
    "# MiniProject #3: Deep Reinforcement Learning"
   ]
  },
  {
   "cell_type": "markdown",
   "metadata": {},
   "source": [
    "__Notations__: $E_p$ is the expectation under probability $p$. Please justify each of your answer and widely comment your code."
   ]
  },
  {
   "cell_type": "markdown",
   "metadata": {},
   "source": [
    "# Context"
   ]
  },
  {
   "cell_type": "markdown",
   "metadata": {},
   "source": [
    "In a reinforcement learning algorithm, we modelize each step $t$ as an action $a_t$ obtained from a state $s_t$, i.e. $\\{(a_{t},s_{t})_{t\\leq T}\\}$ having the Markov property. We consider a discount factor $\\gamma \\in [0,1]$ that ensures convergence. The goal is to find among all the policies $\\pi$, one that maximizes the expected reward:\n",
    "\n",
    "\\begin{equation*}\n",
    "R(\\pi)=\\sum_{t\\leq T}E_{p^{\\pi}}[\\gamma^t r(s_{t},a_{t})] \\> ,\n",
    "\\end{equation*}\n",
    "\n",
    "where: \n",
    "\\begin{equation*}p^{\\pi}(a_{0},a_{1},s_{1},...,a_{T},s_{T})=p(a_{0})\\prod_{t=1}^{T}\\pi(a_{t}|s_{t})p(s_{t+1}|s_{t},a_{t}) \\> .\n",
    "\\end{equation*}\n",
    "\n",
    "We note the $Q$-function:\n",
    "\n",
    "\\begin{equation*}Q^\\pi(s,a)=E_{p^{\\pi}}[\\sum_{t\\leq T}\\gamma^{t}r(s_{t},a_{t})|s_{0}=s,a_{0}=a] \\> .\n",
    "\\end{equation*}\n",
    "\n",
    "Thus, the optimal Q function is:\n",
    "\\begin{equation*}\n",
    "Q^*(s,a)=\\max_{\\pi}Q^\\pi(s,a) \\> .\n",
    "\\end{equation*}\n",
    "\n",
    "In this project, we will apply the deep reinforcement learning techniques to a simple game: an agent will have to learn from scratch a policy that will permit it maximizing a reward."
   ]
  },
  {
   "cell_type": "markdown",
   "metadata": {},
   "source": [
    "## The environment, the agent and the game"
   ]
  },
  {
   "cell_type": "markdown",
   "metadata": {},
   "source": [
    "### The environment"
   ]
  },
  {
   "cell_type": "markdown",
   "metadata": {},
   "source": [
    "```Environment``` is an abstract class that represents the states, rewards, and actions to obtain the new state."
   ]
  },
  {
   "cell_type": "code",
   "execution_count": 3,
   "metadata": {},
   "outputs": [],
   "source": [
    "class Environment(object):\n",
    "    def __init__(self):\n",
    "        pass\n",
    "\n",
    "    def act(self, act):\n",
    "        \"\"\"\n",
    "        One can act on the environment and obtain its reaction:\n",
    "        - the new state\n",
    "        - the reward of the new state\n",
    "        - should we continue the game?\n",
    "\n",
    "        :return: state, reward, game_over\n",
    "        \"\"\"\n",
    "        pass\n",
    "\n",
    "\n",
    "    def reset(self):\n",
    "        \"\"\"\n",
    "        Reinitialize the environment to a random state and returns\n",
    "        the original state\n",
    "\n",
    "        :return: state\n",
    "        \"\"\"\n",
    "        pass\n",
    "    \n",
    "    def draw(self):\n",
    "        \"\"\"\n",
    "        Visualize in the console or graphically the current state\n",
    "        \"\"\"\n",
    "        pass"
   ]
  },
  {
   "cell_type": "markdown",
   "metadata": {},
   "source": [
    "The method ```act``` allows to act on the environment at a given state $s_t$ (stored internally), via action $a_t$. The method will return the new state $s_{t+1}$, the reward $r(s_{t},a_{t})$ and determines if $t\\leq T$ (*game_over*).\n",
    "\n",
    "The method ```reset``` simply reinitializes the environment to a random state $s_0$.\n",
    "\n",
    "The method ```draw``` displays the current state $s_t$ (this is useful to check the behavior of the Agent).\n",
    "\n",
    "We modelize $s_t$ as a tensor, while $a_t$ is an integer."
   ]
  },
  {
   "cell_type": "markdown",
   "metadata": {},
   "source": [
    "### The Agent"
   ]
  },
  {
   "cell_type": "markdown",
   "metadata": {},
   "source": [
    "The goal of the ```Agent``` is to interact with the ```Environment``` by proposing actions $a_t$ obtained from a given state $s_t$ to attempt to maximize its __reward__ $r(s_t,a_t)$. We propose the following abstract class:"
   ]
  },
  {
   "cell_type": "code",
   "execution_count": 4,
   "metadata": {},
   "outputs": [],
   "source": [
    "class Agent(object):\n",
    "    def __init__(self, epsilon=0.1, n_action=4):\n",
    "        self.epsilon = epsilon\n",
    "        self.n_action = n_action\n",
    "        self.dec_value = 0\n",
    "        \n",
    "    def set_epsilon(self,e):\n",
    "        # For question 10. I increase a factor that involves decreasing the value of epsilon.\n",
    "        self.epsilon = self.epsilon/np.exp(self.dec_value)\n",
    "        self.dec_value -= 0.5 # I decrease the value for the next time. It starts in 0\n",
    "\n",
    "    def act(self,s,train=True):\n",
    "        \"\"\" This function should return the next action to do:\n",
    "        an integer between 0 and 4 (not included) with a random exploration of epsilon\"\"\"\n",
    "        if train:\n",
    "            if np.random.rand() <= self.epsilon:\n",
    "                a = np.random.randint(0, self.n_action, size=1)[0]\n",
    "            else:\n",
    "                a = self.learned_act(s)\n",
    "        else: # in some cases, this can improve the performance.. remove it if poor performances\n",
    "            a = self.learned_act(s)\n",
    "\n",
    "        return a\n",
    "\n",
    "    def learned_act(self,s):\n",
    "        \"\"\" Act via the policy of the agent, from a given state s\n",
    "        it proposes an action a\"\"\"\n",
    "        pass\n",
    "\n",
    "    def reinforce(self, s, n_s, a, r, game_over_):\n",
    "        \"\"\" This function is the core of the learning algorithm. \n",
    "        It takes as an input the current state s_, the next state n_s_\n",
    "        the action a_ used to move from s_ to n_s_ and the reward r_.\n",
    "        \n",
    "        Its goal is to learn a policy.\n",
    "        \"\"\"\n",
    "        pass\n",
    "\n",
    "    def save(self):\n",
    "        \"\"\" This function returns basic stats if applicable: the\n",
    "        loss and/or the model\"\"\"\n",
    "        pass\n",
    "\n",
    "    def load(self):\n",
    "        \"\"\" This function allows to restore a model\"\"\"\n",
    "        pass"
   ]
  },
  {
   "cell_type": "markdown",
   "metadata": {},
   "source": [
    "***\n",
    "__Question 1__:\n",
    "Explain the function act. Why is ```epsilon``` essential?"
   ]
  },
  {
   "cell_type": "markdown",
   "metadata": {},
   "source": [
    "As we know, epsilon here represents the probability of doing \"exploration\" of \"explotation\". In Reinforcement Learning we constantly work with these two because there is always a trade off between \"exploration\" of \"explotation\".\n",
    " \n",
    "One of the challenges that arise in reinforcement learning is the trade-off between exploration and exploitation. To obtain a lot of reward, a reinforcement learning agent must prefer actions that it has tried in the past and found to be effective in producing reward. But to discover such actions, it has to try actions that it has not selected before (like exploration)\n",
    "\n",
    "The agent has to exploit what it has already experienced in order to obtain reward, but it also has to explore in order to make better action selections in the future. The dilemma is that neither exploration nor exploitation can be pursued exclusively without failing at the task. The agent must try a variety of actions and progressively favor those that appear to be best.\n",
    "\n",
    "On a stochastic task, each action must be tried many times to gain a reliable estimate of its expected reward. We are trying to balance the exploration–exploitation with the epsilon parameter to ensure that with certain probability the agent explores new options, or exploits one that he already knows."
   ]
  },
  {
   "cell_type": "markdown",
   "metadata": {},
   "source": [
    "***\n",
    "### The Game"
   ]
  },
  {
   "cell_type": "markdown",
   "metadata": {},
   "source": [
    "The ```Agent``` and the ```Environment``` work in an interlaced way as in the following (take some time to understand this code as it is the core of the project)\n",
    "\n",
    "```python\n",
    "\n",
    "epoch = 300\n",
    "env = Environment()\n",
    "agent = Agent()\n",
    "\n",
    "\n",
    "# Number of won games\n",
    "score = 0\n",
    "loss = 0\n",
    "\n",
    "\n",
    "for e in range(epoch):\n",
    "    # At each epoch, we restart to a fresh game and get the initial state\n",
    "    state = env.reset()\n",
    "    # This assumes that the games will end\n",
    "    game_over = False\n",
    "\n",
    "    win = 0\n",
    "    lose = 0\n",
    "    \n",
    "    while not game_over:\n",
    "        # The agent performs an action\n",
    "        action = agent.act(state)\n",
    "\n",
    "        # Apply an action to the environment, get the next state, the reward\n",
    "        # and if the games end\n",
    "        prev_state = state\n",
    "        state, reward, game_over = env.act(action)\n",
    "\n",
    "        # Update the counters\n",
    "        if reward > 0:\n",
    "            win = win + reward\n",
    "        if reward < 0:\n",
    "            lose = lose -reward\n",
    "\n",
    "        # Apply the reinforcement strategy\n",
    "        loss = agent.reinforce(prev_state, state,  action, reward, game_over)\n",
    "\n",
    "    # Save as a mp4\n",
    "    if e % 10 == 0:\n",
    "        env.draw(e)\n",
    "\n",
    "    # Update stats\n",
    "    score += win-lose\n",
    "\n",
    "    print(\"Epoch {:03d}/{:03d} | Loss {:.4f} | Win/lose count {}/{} ({})\"\n",
    "          .format(e, epoch, loss, win, lose, win-lose))\n",
    "    agent.save()\n",
    "```"
   ]
  },
  {
   "cell_type": "markdown",
   "metadata": {},
   "source": [
    "# The game, *eat cheese*"
   ]
  },
  {
   "cell_type": "markdown",
   "metadata": {},
   "source": [
    "A rat runs on an island and tries to eat as much as possible. The island is subdivided into $N\\times N$ cells, in which there are cheese (+0.5) and poisonous cells (-1). The rat has a visibility of 2 cells (thus it can see $5^2$ cells). The rat is given a time $T$ to accumulate as much food as possible. It can perform 4 actions: going up, down, left, right. \n",
    "\n",
    "The goal is to code an agent to solve this task that will learn by trial and error. We propose the following environment:"
   ]
  },
  {
   "cell_type": "code",
   "execution_count": 5,
   "metadata": {},
   "outputs": [],
   "source": [
    "class Environment(object):\n",
    "    def __init__(self, grid_size=10, max_time=500, temperature=0.1):\n",
    "        grid_size = grid_size+4\n",
    "        self.grid_size = grid_size\n",
    "        self.max_time = max_time\n",
    "        self.temperature = temperature\n",
    "\n",
    "        #board on which one plays\n",
    "        self.board = np.zeros((grid_size,grid_size))\n",
    "        self.position = np.zeros((grid_size,grid_size))\n",
    "\n",
    "        # coordinate of the cat\n",
    "        self.x = 0\n",
    "        self.y = 1\n",
    "\n",
    "        # self time\n",
    "        self.t = 0\n",
    "\n",
    "        self.scale=16\n",
    "\n",
    "        self.to_draw = np.zeros((max_time+2, grid_size*self.scale, grid_size*self.scale, 3))\n",
    "\n",
    "\n",
    "    def draw(self,e):\n",
    "        skvideo.io.vwrite(str(e) + '.mp4', self.to_draw)\n",
    "\n",
    "    def get_frame(self,t):\n",
    "        b = np.zeros((self.grid_size,self.grid_size,3))+128\n",
    "        b[self.board>0,0] = 256\n",
    "        b[self.board < 0, 2] = 256\n",
    "        b[self.x,self.y,:]=256\n",
    "        b[-2:,:,:]=0\n",
    "        b[:,-2:,:]=0\n",
    "        b[:2,:,:]=0\n",
    "        b[:,:2,:]=0\n",
    "        \n",
    "        b =  cv2.resize(b, None, fx=self.scale, fy=self.scale, interpolation=cv2.INTER_NEAREST)\n",
    "\n",
    "        self.to_draw[t,:,:,:]=b\n",
    "\n",
    "\n",
    "    def act(self, action):\n",
    "        \"\"\"This function returns the new state, reward and decides if the\n",
    "        game ends.\"\"\"\n",
    "\n",
    "        self.get_frame(int(self.t))\n",
    "\n",
    "        self.position = np.zeros((self.grid_size, self.grid_size))\n",
    "\n",
    "        self.position[0:2,:]= -1\n",
    "        self.position[:,0:2] = -1\n",
    "        self.position[-2:, :] = -1\n",
    "        self.position[:,-2:] = -1\n",
    "\n",
    "        self.position[self.x, self.y] = 1\n",
    "        if action == 0:\n",
    "            if self.x == self.grid_size-3:\n",
    "                self.x = self.x-1\n",
    "            else:\n",
    "                self.x = self.x + 1\n",
    "        elif action == 1:\n",
    "            if self.x == 2:\n",
    "                self.x = self.x+1\n",
    "            else:\n",
    "                self.x = self.x-1\n",
    "        elif action == 2:\n",
    "            if self.y == self.grid_size - 3:\n",
    "                self.y = self.y - 1\n",
    "            else:\n",
    "                self.y = self.y + 1\n",
    "        elif action == 3:\n",
    "            if self.y == 2:\n",
    "                self.y = self.y + 1\n",
    "            else:\n",
    "                self.y = self.y - 1\n",
    "        else:\n",
    "            RuntimeError('Error: action not recognized')\n",
    "\n",
    "        self.t = self.t + 1\n",
    "        reward = self.board[self.x, self.y]\n",
    "        self.board[self.x, self.y] = 0\n",
    "        game_over = self.t > self.max_time\n",
    "        state = np.concatenate((self.board.reshape(self.grid_size, self.grid_size,1),\n",
    "                        self.position.reshape(self.grid_size, self.grid_size,1)),axis=2)\n",
    "        state = state[self.x-2:self.x+3,self.y-2:self.y+3,:]\n",
    "\n",
    "        return state, reward, game_over\n",
    "\n",
    "    def reset(self):\n",
    "        \"\"\"This function resets the game and returns the initial state\"\"\"\n",
    "\n",
    "        self.x = np.random.randint(3, self.grid_size-3, size=1)[0]\n",
    "        self.y = np.random.randint(3, self.grid_size-3, size=1)[0]\n",
    "\n",
    "\n",
    "        bonus = 0.5*np.random.binomial(1,self.temperature,size=self.grid_size**2)\n",
    "        bonus = bonus.reshape(self.grid_size,self.grid_size)\n",
    "\n",
    "        malus = -1.0*np.random.binomial(1,self.temperature,size=self.grid_size**2)\n",
    "        malus = malus.reshape(self.grid_size, self.grid_size)\n",
    "\n",
    "        self.to_draw = np.zeros((self.max_time+2, self.grid_size*self.scale, self.grid_size*self.scale, 3))\n",
    "\n",
    "\n",
    "        malus[bonus>0]=0\n",
    "\n",
    "        self.board = bonus + malus\n",
    "\n",
    "        self.position = np.zeros((self.grid_size, self.grid_size))\n",
    "        self.position[0:2,:]= -1\n",
    "        self.position[:,0:2] = -1\n",
    "        self.position[-2:, :] = -1\n",
    "        self.position[:, -2:] = -1\n",
    "        self.board[self.x,self.y] = 0\n",
    "        self.t = 0\n",
    "\n",
    "        state = np.concatenate((\n",
    "                               self.board.reshape(self.grid_size, self.grid_size,1),\n",
    "                        self.position.reshape(self.grid_size, self.grid_size,1)),axis=2)\n",
    "\n",
    "        state = state[self.x - 2:self.x + 3, self.y - 2:self.y + 3, :]\n",
    "        return state"
   ]
  },
  {
   "cell_type": "markdown",
   "metadata": {},
   "source": [
    "The following elements are important because they correspond to the hyper parameters for this project:"
   ]
  },
  {
   "cell_type": "code",
   "execution_count": 6,
   "metadata": {},
   "outputs": [],
   "source": [
    "# parameters\n",
    "size = 13\n",
    "T=200\n",
    "temperature=0.3\n",
    "epochs_train= 11 # set small when debugging\n",
    "epochs_test= 11 # set small when debugging\n",
    "\n",
    "# display videos\n",
    "def display_videos(name):\n",
    "    video = io.open(name, 'r+b').read()\n",
    "    encoded = base64.b64encode(video)\n",
    "    return '''<video alt=\"test\" controls>\n",
    "                <source src=\"data:video/mp4;base64,{0}\" type=\"video/mp4\" />\n",
    "             </video>'''.format(encoded.decode('ascii'))"
   ]
  },
  {
   "cell_type": "markdown",
   "metadata": {},
   "source": [
    "__Question 2__ Explain the use of the arrays ```position``` and ```board```."
   ]
  },
  {
   "cell_type": "markdown",
   "metadata": {},
   "source": [
    "\"Board\" in this case represents in our reinforcement learning model as the \"Environment\" because it considers the delimitation of the island (NxN island where N = grid_size + 4), the building of the walls of the islands (the two first rows and columns that surround the island) and the information of the poison mushrooms and cheese.\n",
    "\n",
    "\"Position Board\" is consider as the agent because it has the status of the board but saving the position where the agent (rat) is. It will save its position and then keep updating it for each moves it does."
   ]
  },
  {
   "cell_type": "markdown",
   "metadata": {},
   "source": [
    "## Random Agent"
   ]
  },
  {
   "cell_type": "markdown",
   "metadata": {},
   "source": [
    "***\n",
    "__Question 3__ Implement a random Agent (only ```learned_act``` needs to be implemented):"
   ]
  },
  {
   "cell_type": "code",
   "execution_count": 7,
   "metadata": {},
   "outputs": [],
   "source": [
    "class RandomAgent(Agent):\n",
    "    def __init__(self):\n",
    "        super(RandomAgent, self).__init__()\n",
    "        pass\n",
    "\n",
    "    def learned_act(self, s):\n",
    "        # If it's a random agent, we just need to get a random value (action) and perform it.\n",
    "        action = np.random.randint(0, self.n_action, size=1)[0]\n",
    "        return action"
   ]
  },
  {
   "cell_type": "markdown",
   "metadata": {},
   "source": [
    "***\n",
    "***\n",
    "__Question 4__ Visualize the game moves. You need to fill in the following function for the evaluation:"
   ]
  },
  {
   "cell_type": "code",
   "execution_count": 8,
   "metadata": {},
   "outputs": [],
   "source": [
    "def test(agent,env,epochs,prefix=''):\n",
    "    # Number of won games\n",
    "    score = 0\n",
    "        \n",
    "    for e in range(epochs):\n",
    "        #################\n",
    "        ##### FILL IN HERE\n",
    "        # Based on the agent defined at the beginning of the homework, we build this structure.\n",
    "        \n",
    "        # At each epoch, we restart to a fresh game and get the initial state\n",
    "        state = env.reset()\n",
    "        # This assumes that the game will end\n",
    "        game_over = False\n",
    "\n",
    "        win = 0\n",
    "        lose = 0\n",
    "\n",
    "        while not game_over:\n",
    "            # The agent performs an action\n",
    "            action = agent.learned_act(state)\n",
    "\n",
    "            # Apply an action to the environment, get the next state, the reward\n",
    "            # and check if the games end (we pass the time)\n",
    "            prev_state = state\n",
    "            state, reward, game_over = env.act(action)\n",
    "\n",
    "            # Update the counters\n",
    "            if reward > 0:\n",
    "                win = win + reward\n",
    "            if reward < 0:\n",
    "                lose = lose - reward\n",
    "\n",
    "            # Apply the reinforcement strategy\n",
    "            loss = agent.reinforce(prev_state, state,  action, reward, game_over)\n",
    "        \n",
    "        \n",
    "        ################\n",
    "        \n",
    "        # Save as a mp4\n",
    "        if e == 10:\n",
    "            env.draw(prefix+str(e))\n",
    "\n",
    "        # Update stats\n",
    "        score = score + win-lose\n",
    "\n",
    "        print(\"Win/lose count {}/{}. Average score ({})\"\n",
    "              .format(win, lose, score/(1+e)))\n",
    "    print('Final score: '+str(score/epochs))"
   ]
  },
  {
   "cell_type": "code",
   "execution_count": 9,
   "metadata": {},
   "outputs": [
    {
     "name": "stdout",
     "output_type": "stream",
     "text": [
      "Win/lose count 9.5/15.0. Average score (-5.5)\n",
      "Win/lose count 11.5/7.0. Average score (-0.5)\n",
      "Win/lose count 6.5/8.0. Average score (-0.8333333333333334)\n",
      "Win/lose count 11.5/14.0. Average score (-1.25)\n",
      "Win/lose count 8.5/14.0. Average score (-2.1)\n",
      "Win/lose count 10.5/16.0. Average score (-2.6666666666666665)\n",
      "Win/lose count 12.5/20.0. Average score (-3.357142857142857)\n",
      "Win/lose count 8.0/10.0. Average score (-3.1875)\n",
      "Win/lose count 8.0/19.0. Average score (-4.055555555555555)\n",
      "Win/lose count 11.0/13.0. Average score (-3.85)\n",
      "Win/lose count 9.0/12.0. Average score (-3.772727272727273)\n",
      "Final score: -3.772727272727273\n"
     ]
    },
    {
     "data": {
      "text/html": [
       "<video alt=\"test\" controls>\n",
       "                <source src=\"data:video/mp4;base64,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\" type=\"video/mp4\" />\n",
       "             </video>"
      ],
      "text/plain": [
       "<IPython.core.display.HTML object>"
      ]
     },
     "execution_count": 9,
     "metadata": {},
     "output_type": "execute_result"
    }
   ],
   "source": [
    "# Initialize the game\n",
    "env = Environment(grid_size=size, max_time=T,temperature=temperature)\n",
    "\n",
    "# Initialize the agent!\n",
    "agent = RandomAgent()\n",
    "\n",
    "test(agent,env,epochs_test,prefix='random')\n",
    "HTML(display_videos('random10.mp4'))"
   ]
  },
  {
   "cell_type": "markdown",
   "metadata": {},
   "source": [
    "***\n",
    "## DQN"
   ]
  },
  {
   "cell_type": "markdown",
   "metadata": {},
   "source": [
    "Let us assume here that $T=\\infty$.\n",
    "\n",
    "***\n",
    "__Question 5__ Let $\\pi$ be a policy, show that:\n",
    "\n",
    "\\begin{equation*}\n",
    "Q^{\\pi}(s,a)=E_{(s',a')\\sim p(.|s,a)}[r(s,a)+\\gamma Q^{\\pi}(s',a')]\n",
    "\\end{equation*}\n",
    "\n",
    "Then, show that for the optimal policy $\\pi^*$ (we assume its existence), the following holds: \n",
    "\n",
    "\\begin{equation*}\n",
    "Q^{*}(s,a)=E_{s'\\sim \\pi^*(.|s,a)}[r(s,a)+\\gamma\\max_{a'}Q^{*}(s',a')].\n",
    "\\end{equation*}\n",
    "Finally, deduce that a plausible objective is:\n",
    "\n",
    "\\begin{equation*}\n",
    "\\mathcal{L}(\\theta)=E_{s' \\sim \\pi^*(.|s,a)}\\Vert r+\\gamma\\max\\max_{a'}Q(s',a',\\theta)-Q(s,a,\\theta)\\Vert^{2}.\n",
    "\\end{equation*}\n",
    "\n",
    "\n"
   ]
  },
  {
   "cell_type": "markdown",
   "metadata": {},
   "source": [
    "> ### Question 5.1:\n",
    "> \n",
    ">We know that the Action Value function is given by:\n",
    ">$Q^{\\pi}(s, a) = E_{\\pi}[R_{t} | S_{t}=s, A_{t}=a]$\n",
    ">\n",
    ">And the Reward function is:\n",
    ">$R_{t} = \\sum_{k=t+1}^{T} \\gamma^{k-t-1} r_{k}$, $r_{k}$ is the reward in time k\n",
    ">\n",
    ">We work on them and get the following:\n",
    ">\n",
    ">$$Q^{\\pi}(s, a)={E}^{\\pi}[\\sum_{k=0}^{\\infty} \\gamma^{k} r_{t+k+1} | S_{t}=s, A_{t}=a]$$ \n",
    ">$$ = {E}^{\\pi}[r(s,a) + \\sum_{k=1}^{\\infty} \\gamma^{k} r_{t+k+1} | S_{t}=s, A_{t}=a]$$\n",
    ">$$ = {E}^{\\pi}[r(s,a) +\\gamma Q^{\\pi}(s',a') ] $$\n",
    ">$$ = E_{(s',a')\\sim p(.|s,a)}[r(s,a)+\\gamma Q^{\\pi}(s',a')]$$\n",
    "\n",
    "\n",
    ">### Question 5.2:\n",
    "> By monotonicity property in reinforcement learning, we know that we must get better rewards when we do more actions, until we arrive to the optimal action value function. For this, we know that $\\pi'$ has to be bigger than $\\pi$ for the next state. Also, our value function $v_{\\pi'}(s)$ will be bigger than our previous $v_{\\pi}(s)$. If we go to the infinity in time, we arrive to the optimal action value function. From our previous equation, we get that:\n",
    ">\n",
    "> $$Q^{*}(s,a) = \\max _{a}E^{\\pi^{*}}[R_{t}| S_{t}=s, A_{t}=a]$$\n",
    "> $$ = \\max _{a}E^{\\pi^{*}}[r(s,a) + R_{t+1}| S_{t}=s, A_{t}=a]$$\n",
    "> $$ = E_{s'\\sim \\pi^*(.|s,a)}[r(s,a)+\\gamma\\max_{a'}Q^{*}(s',a')]$$\n",
    "\n",
    ">### Question 5.3:\n",
    ">The loss function is defined as the distance between the predicted action value function $Q$ that we have in our current state and the optimal action value function $Q^{*}$. Both are given in previous questions. Based on this we got:\n",
    ">\n",
    ">$$\\mathcal{L}(\\theta)=E_{s' \\sim \\pi^*(.|s,a)}\\Vert Q^{*}(s,a) - Q^{\\pi}(s, a)  \\Vert^{2}$$\n",
    ">$$=E_{s' \\sim \\pi^*(.|s,a)}\\Vert r+\\gamma\\max_{a'}Q(s',a',\\theta)-Q(s,a,\\theta)\\Vert^{2}$$"
   ]
  },
  {
   "cell_type": "markdown",
   "metadata": {},
   "source": [
    "***\n",
    "The DQN-learning algorithm relies on these derivations to train the parameters $\\theta$ of a Deep Neural Network:\n",
    "\n",
    "1. At the state $s_t$, select the action $a_t$ with best reward using $Q_t$ and store the results;\n",
    "\n",
    "2. Obtain the new state $s_{t+1}$ from the environment $p$;\n",
    "\n",
    "3. Store $(s_t,a_t,s_{t+1})$;\n",
    "\n",
    "4. Obtain $Q_{t+1}$ by minimizing  $\\mathcal{L}$ from a recovered batch from the previously stored results.\n",
    "\n",
    "***\n",
    "__Question 6__ Implement the class ```Memory``` that stores moves (in a replay buffer) via ```remember``` and provides a ```random_access``` to these. Specify a maximum memory size to avoid side effects. You can for example use a ```list()``` and set by default ```max_memory=100```."
   ]
  },
  {
   "cell_type": "code",
   "execution_count": 10,
   "metadata": {},
   "outputs": [],
   "source": [
    "class Memory(object):\n",
    "    def __init__(self, max_memory=100):\n",
    "        self.max_memory = max_memory\n",
    "        self.memory = list()\n",
    "\n",
    "    def remember(self, m):\n",
    "        # We include the value \"m\" that has the array of form: [s_, n_s_, a_, r_, game_over_].\n",
    "        # State, New_state, Action, Reward, Game_Over\n",
    "        if len(self.memory) < self.max_memory:\n",
    "            self.memory.append(m)\n",
    "        else: # If we reach the maximum amount of memory, we pop the 1st value of the array and put the append the new one. FIFO method.\n",
    "            self.memory.pop(0)\n",
    "            self.memory.append(m)\n",
    "\n",
    "    def random_access(self):\n",
    "        # We want to get a random value from the memory. We create a variable that considers the length of the memory array.\n",
    "        max_memory_box = len(self.memory) # No need of \"-1\" because randint is exclusive interval on the right.\n",
    "        # This value considers the array of [s_, n_s_, a_, r_, game_over_]. It gets it from the memory array with its index.\n",
    "        mem = self.memory[np.random.randint(0, max_memory_box)]#, size=1)]\n",
    "        return mem"
   ]
  },
  {
   "cell_type": "markdown",
   "metadata": {},
   "source": [
    "***\n",
    "The pipeline we will use for training is given below:"
   ]
  },
  {
   "cell_type": "code",
   "execution_count": 11,
   "metadata": {},
   "outputs": [],
   "source": [
    "def train(agent,env,epoch,prefix=''):\n",
    "    # Number of won games\n",
    "    score = 0\n",
    "    loss = 0\n",
    "\n",
    "    for e in range(epoch):\n",
    "        # At each epoch, we restart to a fresh game and get the initial state\n",
    "        state = env.reset()\n",
    "        # This assumes that the games will terminate\n",
    "        game_over = False\n",
    "\n",
    "        win = 0\n",
    "        lose = 0\n",
    "\n",
    "        while not game_over:\n",
    "            # The agent performs an action\n",
    "            action = agent.act(state)\n",
    "\n",
    "            # Apply an action to the environment, get the next state, the reward\n",
    "            # and if the games end\n",
    "            prev_state = state\n",
    "            state, reward, game_over = env.act(action)\n",
    "\n",
    "            # Update the counters\n",
    "            if reward > 0:\n",
    "                win = win + reward\n",
    "            if reward < 0:\n",
    "                lose = lose -reward\n",
    "\n",
    "            # Apply the reinforcement strategy\n",
    "            loss = agent.reinforce(prev_state, state,  action, reward, game_over)\n",
    "\n",
    "        # Save as a mp4\n",
    "        if e==10:\n",
    "            env.draw(prefix+str(e))\n",
    "\n",
    "        # Update stats\n",
    "        score += win-lose\n",
    "\n",
    "        print(\"Epoch {:03d}/{:03d} | Loss {:.4f} | Win/lose count {}/{} ({})\"\n",
    "              .format(e, epoch, loss, win, lose, win-lose))\n",
    "        agent.save(name_weights=prefix+'model.h5',name_model=prefix+'model.json')"
   ]
  },
  {
   "cell_type": "markdown",
   "metadata": {},
   "source": [
    "***\n",
    "__Question 7__ Implement the DQN training algorithm using a cascade of fully connected layers. You can use different learning rate, batch size or memory size parameters. In particular, the loss might oscillate while the player will start to win the games. You have to find a good criterium."
   ]
  },
  {
   "cell_type": "code",
   "execution_count": 12,
   "metadata": {},
   "outputs": [],
   "source": [
    "class DQN(Agent):\n",
    "    def __init__(self, grid_size,  epsilon = 0.1, memory_size=100, batch_size = 16,n_state=2):\n",
    "        super(DQN, self).__init__(epsilon = epsilon)\n",
    "\n",
    "        # Discount for Q learning\n",
    "        self.discount = 0.99\n",
    "        \n",
    "        self.grid_size = grid_size\n",
    "        \n",
    "        # number of state\n",
    "        self.n_state = n_state\n",
    "\n",
    "        # Memory\n",
    "        self.memory = Memory(memory_size)\n",
    "        \n",
    "        # Batch size when learning\n",
    "        self.batch_size = batch_size\n",
    "        \n",
    "        # Actions that can be performed\n",
    "        self.actions = [0,1,2,3]\n",
    "\n",
    "    def learned_act(self, s):\n",
    "        # We reshape based on the 3D matrix of states: 5x5x2\n",
    "        s = s.reshape(1,s.shape[0], s.shape[1], s.shape[2])\n",
    "        # We predict based on the state we have.\n",
    "        np_predict = self.model.predict(s)\n",
    "        # We maximize our state based on the result of predictions we got and get our final state.\n",
    "        final_state_value = np.argmax(np_predict)\n",
    "        return final_state_value\n",
    "\n",
    "    def reinforce(self, s_, n_s_, a_, r_, game_over_):\n",
    "        # Two steps: first memorize the states, second learn from the pool\n",
    "\n",
    "        self.memory.remember([s_, n_s_, a_, r_, game_over_])\n",
    "        input_states = np.zeros((self.batch_size, 5,5,self.n_state))\n",
    "        \n",
    "        # I define the shape of our target Q considering the batch.\n",
    "        target_q = np.zeros((self.batch_size, 4))\n",
    "        \n",
    "        for i in range(self.batch_size):\n",
    "            ######## FILL IN\n",
    "            \n",
    "            # I get the info of historical state (in column 0) that we have in memory to learn from the pool.\n",
    "            hist_state = self.memory.random_access()[0]\n",
    "            # I get the info of historical reward (in column 3) that we have in memory to learn from the pool.\n",
    "            hist_reward = self.memory.random_access()[3]\n",
    "            # I reshape the historical state  to our 5X5X2\n",
    "            hist_state = hist_state.reshape(1,hist_state.shape[0], hist_state.shape[1], hist_state.shape[2])\n",
    "            \n",
    "            # Based on the action value function, we define Q as the actual reward (hist_reward) + the future Qs that we will have multiplied by discount (gamma)\n",
    "            for j in range(4):\n",
    "                target_q[i,j] = hist_reward + self.discount*self.model.predict(hist_state).reshape(4)[j]\n",
    "            \n",
    "            # Actually the value \"game_over\" is updated when we apply an action in the environment (every round) and we get out of time.\n",
    "            if game_over_:\n",
    "                game_over = True\n",
    "                ######## FILL IN\n",
    "            else:\n",
    "                game_over = False\n",
    "                ######## FILL IN\n",
    "        ######## FILL IN\n",
    "        # HINT: Clip the target to avoid exploiding gradients.. -- clipping is a bit tighter\n",
    "        target_q = np.clip(target_q, -3, 3)        \n",
    "        l = self.model.train_on_batch(input_states, target_q)\n",
    "\n",
    "        return l\n",
    "\n",
    "    def save(self,name_weights='model.h5',name_model='model.json'):\n",
    "        self.model.save_weights(name_weights, overwrite=True)\n",
    "        with open(name_model, \"w\") as outfile:\n",
    "            json.dump(self.model.to_json(), outfile)\n",
    "            \n",
    "    def load(self,name_weights='model.h5',name_model='model.json'):\n",
    "        with open(name_model, \"r\") as jfile:\n",
    "            model = model_from_json(json.load(jfile))\n",
    "        model.load_weights(name_weights)\n",
    "        model.compile(\"sgd\", \"mse\")\n",
    "        self.model = model\n",
    "\n",
    "            \n",
    "class DQN_FC(DQN):\n",
    "    def __init__(self, *args, lr=0.1,**kwargs):\n",
    "        super(DQN_FC, self).__init__( *args,**kwargs)\n",
    "        \n",
    "        # I tried with a Dense Sequential Model, but it tells me there is a problem with the dimensions, despite they are good.\n",
    "        \n",
    "        #model = Sequential()\n",
    "        #model.add(Conv2D(filters=1,kernel_size=(3,3), input_shape=(5,5,2)))\n",
    "        #model.add(Flatten())\n",
    "        #model.add(Dense(units=64, activation='relu'))\n",
    "        #model.add(Dense(units=128, activation='relu'))\n",
    "        #model.add(Dense(units=len(self.actions))\n",
    "        \n",
    "        # I tried also with Convolutional network, but because it's sequential again, i got problems with dimensions.\n",
    "        \n",
    "        # Initializes a sequential model\n",
    "        #model = Sequential()\n",
    "        # First layer\n",
    "        #model.add(Conv2D(2, kernel_size = (5,5), activation='relu', batch_input_shape=(32,5,5,2), data_format = 'channels_last'))\n",
    "        #model.add(Dense(1024, activation='relu', batch_input_shape=(32,5,5,2), data_format = 'channels_last'))\n",
    "        # We include the Pool of 2x2 for the model\n",
    "        #model.add(MaxPooling2D(2))\n",
    "        # We convert it to on single big array when we go from Convolution to Dense.\n",
    "        #model.add(Flatten())\n",
    "        # Output layer\n",
    "        #model.add(Dense(len(self.actions), activation='linear', batch_size = 32))\n",
    "        \n",
    "        # This model worked. I build manually the layers (not sequential) and associate the inputs to the outputs manually.\n",
    "        # The model considers the b atch defined in 32.\n",
    "        a = Input(batch_shape=(32,5,5,self.n_state))\n",
    "        b = Flatten()(a)\n",
    "        c = Dense(64, activation='relu')(b)\n",
    "        d = Dense(4, activation='linear')(c) # We finish in four because of the quantity of actions.\n",
    "        model = Model(inputs=a, outputs=d)\n",
    "        \n",
    "        ####### FILL IN\n",
    "        \n",
    "        model.compile(sgd(lr=lr, decay=1e-4, momentum=0.0), \"mse\")\n",
    "        self.model = model\n",
    "        model.summary()"
   ]
  },
  {
   "cell_type": "code",
   "execution_count": 13,
   "metadata": {},
   "outputs": [
    {
     "name": "stdout",
     "output_type": "stream",
     "text": [
      "_________________________________________________________________\n",
      "Layer (type)                 Output Shape              Param #   \n",
      "=================================================================\n",
      "input_1 (InputLayer)         (32, 5, 5, 2)             0         \n",
      "_________________________________________________________________\n",
      "flatten_1 (Flatten)          (32, 50)                  0         \n",
      "_________________________________________________________________\n",
      "dense_1 (Dense)              (32, 64)                  3264      \n",
      "_________________________________________________________________\n",
      "dense_2 (Dense)              (32, 4)                   260       \n",
      "=================================================================\n",
      "Total params: 3,524\n",
      "Trainable params: 3,524\n",
      "Non-trainable params: 0\n",
      "_________________________________________________________________\n",
      "Epoch 000/011 | Loss 0.1983 | Win/lose count 2.5/4.0 (-1.5)\n",
      "Epoch 001/011 | Loss 0.0756 | Win/lose count 2.0/4.0 (-2.0)\n",
      "Epoch 002/011 | Loss 0.0293 | Win/lose count 2.0/2.0 (0.0)\n",
      "Epoch 003/011 | Loss 0.0457 | Win/lose count 2.5/5.0 (-2.5)\n",
      "Epoch 004/011 | Loss 0.0324 | Win/lose count 3.0/6.0 (-3.0)\n",
      "Epoch 005/011 | Loss 0.0370 | Win/lose count 6.0/3.0 (3.0)\n",
      "Epoch 006/011 | Loss 0.0948 | Win/lose count 2.0/3.0 (-1.0)\n",
      "Epoch 007/011 | Loss 0.0422 | Win/lose count 3.0/5.0 (-2.0)\n",
      "Epoch 008/011 | Loss 0.0462 | Win/lose count 3.5/7.0 (-3.5)\n",
      "Epoch 009/011 | Loss 0.0453 | Win/lose count 4.5/3.0 (1.5)\n",
      "Epoch 010/011 | Loss 0.0303 | Win/lose count 3.0/8.0 (-5.0)\n"
     ]
    },
    {
     "data": {
      "text/html": [
       "<video alt=\"test\" controls>\n",
       "                <source src=\"data:video/mp4;base64,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\" type=\"video/mp4\" />\n",
       "             </video>"
      ],
      "text/plain": [
       "<IPython.core.display.HTML object>"
      ]
     },
     "execution_count": 13,
     "metadata": {},
     "output_type": "execute_result"
    }
   ],
   "source": [
    "env = Environment(grid_size=size, max_time=T, temperature=0.3)\n",
    "agent = DQN_FC(size, lr=.1, epsilon = 0.1, memory_size=2000, batch_size = 32)\n",
    "train(agent, env, epochs_train, prefix='fc_train')\n",
    "HTML(display_videos('fc_train10.mp4'))"
   ]
  },
  {
   "cell_type": "markdown",
   "metadata": {},
   "source": [
    "***\n",
    "***\n",
    "__Question 8__ Implement the DQN training algorithm using a CNN (for example, 2 convolutional layers and one final fully connected layer)."
   ]
  },
  {
   "cell_type": "code",
   "execution_count": 14,
   "metadata": {},
   "outputs": [],
   "source": [
    "class DQN_CNN(DQN):\n",
    "    def __init__(self, *args,lr=0.1,**kwargs):\n",
    "        super(DQN_CNN, self).__init__(*args,**kwargs)\n",
    "        \n",
    "        # Based on the model applied before, i build it again but now with convolutional layers as requested.\n",
    "        # This model considers that batch also as 32.\n",
    "        a = Input(batch_shape=(32,5,5,self.n_state))\n",
    "        conv = Conv2D(64, kernel_size = (3,3), activation='relu', data_format = 'channels_last')(a)\n",
    "        conv2 = Conv2D(128, kernel_size = (3,3), activation='relu', data_format = 'channels_last')(conv)\n",
    "        b = Flatten()(conv)\n",
    "        c = Dense(64, activation='relu')(b)\n",
    "        d = Dense(4, activation='relu')(c)\n",
    "        model = Model(inputs=a, outputs=d)\n",
    "        \n",
    "        ###### FILL IN\n",
    "        \n",
    "        model.compile(sgd(lr=lr, decay=1e-4, momentum=0.0), \"mse\")\n",
    "        self.model = model\n",
    "        model.summary()"
   ]
  },
  {
   "cell_type": "code",
   "execution_count": 15,
   "metadata": {},
   "outputs": [
    {
     "name": "stdout",
     "output_type": "stream",
     "text": [
      "_________________________________________________________________\n",
      "Layer (type)                 Output Shape              Param #   \n",
      "=================================================================\n",
      "input_2 (InputLayer)         (32, 5, 5, 2)             0         \n",
      "_________________________________________________________________\n",
      "conv2d_1 (Conv2D)            (32, 3, 3, 64)            1216      \n",
      "_________________________________________________________________\n",
      "flatten_2 (Flatten)          (32, 576)                 0         \n",
      "_________________________________________________________________\n",
      "dense_3 (Dense)              (32, 64)                  36928     \n",
      "_________________________________________________________________\n",
      "dense_4 (Dense)              (32, 4)                   260       \n",
      "=================================================================\n",
      "Total params: 38,404\n",
      "Trainable params: 38,404\n",
      "Non-trainable params: 0\n",
      "_________________________________________________________________\n",
      "Epoch 000/011 | Loss 0.0060 | Win/lose count 4.5/5.0 (-0.5)\n",
      "Epoch 001/011 | Loss 0.0342 | Win/lose count 2.5/5.0 (-2.5)\n",
      "Epoch 002/011 | Loss 0.0901 | Win/lose count 3.0/12.0 (-9.0)\n",
      "Epoch 003/011 | Loss 0.0576 | Win/lose count 7.0/5.0 (2.0)\n",
      "Epoch 004/011 | Loss 0.0615 | Win/lose count 3.5/2.0 (1.5)\n",
      "Epoch 005/011 | Loss 0.0603 | Win/lose count 0/3.0 (-3.0)\n",
      "Epoch 006/011 | Loss 0.0615 | Win/lose count 4.0/8.0 (-4.0)\n",
      "Epoch 007/011 | Loss 0.0337 | Win/lose count 3.5/9.0 (-5.5)\n",
      "Epoch 008/011 | Loss 0.0691 | Win/lose count 6.0/5.0 (1.0)\n",
      "Epoch 009/011 | Loss 0.0420 | Win/lose count 3.0/4.0 (-1.0)\n",
      "Epoch 010/011 | Loss 0.0318 | Win/lose count 10.0/9.0 (1.0)\n"
     ]
    },
    {
     "data": {
      "text/html": [
       "<video alt=\"test\" controls>\n",
       "                <source src=\"data:video/mp4;base64,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\" type=\"video/mp4\" />\n",
       "             </video>"
      ],
      "text/plain": [
       "<IPython.core.display.HTML object>"
      ]
     },
     "execution_count": 15,
     "metadata": {},
     "output_type": "execute_result"
    }
   ],
   "source": [
    "env = Environment(grid_size=size, max_time=T, temperature=0.3)\n",
    "agent = DQN_CNN(size, lr=.1, epsilon = 0.1, memory_size=2000, batch_size = 32)\n",
    "train(agent,env,epochs_train,prefix='cnn_train')\n",
    "HTML(display_videos('cnn_train10.mp4'))"
   ]
  },
  {
   "cell_type": "markdown",
   "metadata": {},
   "source": [
    "***\n",
    "***\n",
    "__Question 9__ Test both algorithms and compare their performances. Which issue(s) do you observe? Observe also different behaviors by changing the temperature."
   ]
  },
  {
   "cell_type": "code",
   "execution_count": 16,
   "metadata": {},
   "outputs": [
    {
     "name": "stdout",
     "output_type": "stream",
     "text": [
      "_________________________________________________________________\n",
      "Layer (type)                 Output Shape              Param #   \n",
      "=================================================================\n",
      "input_3 (InputLayer)         (32, 5, 5, 2)             0         \n",
      "_________________________________________________________________\n",
      "conv2d_3 (Conv2D)            (32, 3, 3, 64)            1216      \n",
      "_________________________________________________________________\n",
      "flatten_3 (Flatten)          (32, 576)                 0         \n",
      "_________________________________________________________________\n",
      "dense_5 (Dense)              (32, 64)                  36928     \n",
      "_________________________________________________________________\n",
      "dense_6 (Dense)              (32, 4)                   260       \n",
      "=================================================================\n",
      "Total params: 38,404\n",
      "Trainable params: 38,404\n",
      "Non-trainable params: 0\n",
      "_________________________________________________________________\n",
      "_________________________________________________________________\n",
      "Layer (type)                 Output Shape              Param #   \n",
      "=================================================================\n",
      "input_4 (InputLayer)         (32, 5, 5, 2)             0         \n",
      "_________________________________________________________________\n",
      "flatten_4 (Flatten)          (32, 50)                  0         \n",
      "_________________________________________________________________\n",
      "dense_7 (Dense)              (32, 64)                  3264      \n",
      "_________________________________________________________________\n",
      "dense_8 (Dense)              (32, 4)                   260       \n",
      "=================================================================\n",
      "Total params: 3,524\n",
      "Trainable params: 3,524\n",
      "Non-trainable params: 0\n",
      "_________________________________________________________________\n",
      "Test of the CNN\n",
      "Win/lose count 0.5/2.0. Average score (-1.5)\n",
      "Win/lose count 0.5/0. Average score (-0.5)\n",
      "Win/lose count 0.5/0. Average score (-0.16666666666666666)\n",
      "Win/lose count 1.0/5.0. Average score (-1.125)\n",
      "Win/lose count 1.5/1.0. Average score (-0.8)\n",
      "Win/lose count 1.5/0. Average score (-0.4166666666666667)\n",
      "Win/lose count 1.0/1.0. Average score (-0.35714285714285715)\n",
      "Win/lose count 1.0/1.0. Average score (-0.3125)\n",
      "Win/lose count 0.5/1.0. Average score (-0.3333333333333333)\n",
      "Win/lose count 0/0. Average score (-0.3)\n",
      "Win/lose count 1.5/1.0. Average score (-0.22727272727272727)\n",
      "Final score: -0.22727272727272727\n",
      "Test of the FC\n",
      "Win/lose count 0.5/0. Average score (0.5)\n",
      "Win/lose count 1.0/2.0. Average score (-0.25)\n",
      "Win/lose count 0.5/2.0. Average score (-0.6666666666666666)\n",
      "Win/lose count 0/0. Average score (-0.5)\n",
      "Win/lose count 0/0. Average score (-0.4)\n",
      "Win/lose count 0/0. Average score (-0.3333333333333333)\n",
      "Win/lose count 0/1.0. Average score (-0.42857142857142855)\n",
      "Win/lose count 0/1.0. Average score (-0.5)\n",
      "Win/lose count 0/1.0. Average score (-0.5555555555555556)\n",
      "Win/lose count 0/3.0. Average score (-0.8)\n",
      "Win/lose count 0.5/0. Average score (-0.6818181818181818)\n",
      "Final score: -0.6818181818181818\n"
     ]
    }
   ],
   "source": [
    "env = Environment(grid_size=size, max_time=T,temperature=0.3)\n",
    "agent_cnn = DQN_CNN(size, lr=.1, epsilon = 0.1, memory_size=2000, batch_size = 32)\n",
    "agent_cnn.load(name_weights='cnn_trainmodel.h5',name_model='cnn_trainmodel.json')\n",
    "\n",
    "agent_fc = DQN_FC(size, lr=.1, epsilon = 0.1, memory_size=2000, batch_size = 32)\n",
    "agent_fc.load(name_weights='fc_trainmodel.h5',name_model='fc_trainmodel.json')\n",
    "print('Test of the CNN')\n",
    "test(agent_cnn,env,epochs_test,prefix='cnn_test')\n",
    "print('Test of the FC')\n",
    "test(agent_fc,env,epochs_test,prefix='fc_test')"
   ]
  },
  {
   "cell_type": "code",
   "execution_count": 17,
   "metadata": {},
   "outputs": [
    {
     "name": "stdout",
     "output_type": "stream",
     "text": [
      "_________________________________________________________________\n",
      "Layer (type)                 Output Shape              Param #   \n",
      "=================================================================\n",
      "input_5 (InputLayer)         (32, 5, 5, 2)             0         \n",
      "_________________________________________________________________\n",
      "conv2d_5 (Conv2D)            (32, 3, 3, 64)            1216      \n",
      "_________________________________________________________________\n",
      "flatten_5 (Flatten)          (32, 576)                 0         \n",
      "_________________________________________________________________\n",
      "dense_9 (Dense)              (32, 64)                  36928     \n",
      "_________________________________________________________________\n",
      "dense_10 (Dense)             (32, 4)                   260       \n",
      "=================================================================\n",
      "Total params: 38,404\n",
      "Trainable params: 38,404\n",
      "Non-trainable params: 0\n",
      "_________________________________________________________________\n",
      "_________________________________________________________________\n",
      "Layer (type)                 Output Shape              Param #   \n",
      "=================================================================\n",
      "input_6 (InputLayer)         (32, 5, 5, 2)             0         \n",
      "_________________________________________________________________\n",
      "flatten_6 (Flatten)          (32, 50)                  0         \n",
      "_________________________________________________________________\n",
      "dense_11 (Dense)             (32, 64)                  3264      \n",
      "_________________________________________________________________\n",
      "dense_12 (Dense)             (32, 4)                   260       \n",
      "=================================================================\n",
      "Total params: 3,524\n",
      "Trainable params: 3,524\n",
      "Non-trainable params: 0\n",
      "_________________________________________________________________\n",
      "Test of the CNN\n",
      "Win/lose count 3.0/2.0. Average score (1.0)\n",
      "Win/lose count 5.5/0. Average score (3.25)\n",
      "Win/lose count 5.0/0. Average score (3.8333333333333335)\n",
      "Win/lose count 5.5/0. Average score (4.25)\n",
      "Win/lose count 9.0/1.0. Average score (5.0)\n",
      "Win/lose count 4.0/0. Average score (4.833333333333333)\n",
      "Win/lose count 4.5/0. Average score (4.785714285714286)\n",
      "Win/lose count 3.0/1.0. Average score (4.4375)\n",
      "Win/lose count 6.0/0. Average score (4.611111111111111)\n",
      "Win/lose count 0/1.0. Average score (4.05)\n",
      "Win/lose count 7.0/4.0. Average score (3.9545454545454546)\n",
      "Final score: 3.9545454545454546\n",
      "Test of the FC\n",
      "Win/lose count 1.0/0. Average score (1.0)\n",
      "Win/lose count 1.5/1.0. Average score (0.75)\n",
      "Win/lose count 1.5/0. Average score (1.0)\n",
      "Win/lose count 0.5/0. Average score (0.875)\n",
      "Win/lose count 3.5/2.0. Average score (1.0)\n",
      "Win/lose count 1.0/0. Average score (1.0)\n",
      "Win/lose count 1.0/0. Average score (1.0)\n",
      "Win/lose count 2.0/0. Average score (1.125)\n",
      "Win/lose count 1.0/0. Average score (1.1111111111111112)\n",
      "Win/lose count 1.0/0. Average score (1.1)\n",
      "Win/lose count 0.5/0. Average score (1.0454545454545454)\n",
      "Final score: 1.0454545454545454\n"
     ]
    }
   ],
   "source": [
    "# We include one more cell to see the difference of the temperature. In this case we increase the temperature from 0.3 to 0.9.\n",
    "env = Environment(grid_size=size, max_time=T,temperature=0.9)\n",
    "agent_cnn = DQN_CNN(size, lr=.1, epsilon = 0.1, memory_size=2000, batch_size = 32)\n",
    "agent_cnn.load(name_weights='cnn_trainmodel.h5',name_model='cnn_trainmodel.json')\n",
    "\n",
    "agent_fc = DQN_FC(size, lr=.1, epsilon = 0.1, memory_size=2000, batch_size = 32)\n",
    "agent_fc.load(name_weights='fc_trainmodel.h5',name_model='fc_trainmodel.json')\n",
    "print('Test of the CNN')\n",
    "test(agent_cnn,env,epochs_test,prefix='cnn_test')\n",
    "print('Test of the FC')\n",
    "test(agent_fc,env,epochs_test,prefix='fc_test')"
   ]
  },
  {
   "cell_type": "code",
   "execution_count": 18,
   "metadata": {},
   "outputs": [
    {
     "data": {
      "text/html": [
       "<video alt=\"test\" controls>\n",
       "                <source src=\"data:video/mp4;base64,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\" type=\"video/mp4\" />\n",
       "             </video>"
      ],
      "text/plain": [
       "<IPython.core.display.HTML object>"
      ]
     },
     "execution_count": 18,
     "metadata": {},
     "output_type": "execute_result"
    }
   ],
   "source": [
    "HTML(display_videos('cnn_test10.mp4'))"
   ]
  },
  {
   "cell_type": "code",
   "execution_count": 19,
   "metadata": {},
   "outputs": [
    {
     "data": {
      "text/html": [
       "<video alt=\"test\" controls>\n",
       "                <source src=\"data:video/mp4;base64,AAAAIGZ0eXBpc29tAAACAGlzb21pc28yYXZjMW1wNDEAAAAIZnJlZQAAGI9tZGF0AAACrQYF//+p3EXpvebZSLeWLNgg2SPu73gyNjQgLSBjb3JlIDE1NyByMjkzNSA1NDVkZTJmIC0gSC4yNjQvTVBFRy00IEFWQyBjb2RlYyAtIENvcHlsZWZ0IDIwMDMtMjAxOCAtIGh0dHA6Ly93d3cudmlkZW9sYW4ub3JnL3gyNjQuaHRtbCAtIG9wdGlvbnM6IGNhYmFjPTEgcmVmPTMgZGVibG9jaz0xOjA6MCBhbmFseXNlPTB4MToweDExMSBtZT1oZXggc3VibWU9NyBwc3k9MSBwc3lfcmQ9MS4wMDowLjAwIG1peGVkX3JlZj0xIG1lX3JhbmdlPTE2IGNocm9tYV9tZT0xIHRyZWxsaXM9MSA4eDhkY3Q9MCBjcW09MCBkZWFkem9uZT0yMSwxMSBmYXN0X3Bza2lwPTEgY2hyb21hX3FwX29mZnNldD00IHRocmVhZHM9OCBsb29rYWhlYWRfdGhyZWFkcz0xIHNsaWNlZF90aHJlYWRzPTAgbnI9MCBkZWNpbWF0ZT0xIGludGVybGFjZWQ9MCBibHVyYXlfY29tcGF0PTAgY29uc3RyYWluZWRfaW50cmE9MCBiZnJhbWVzPTMgYl9weXJhbWlkPTIgYl9hZGFwdD0xIGJfYmlhcz0wIGRpcmVjdD0xIHdlaWdodGI9MSBvcGVuX2dvcD0wIHdlaWdodHA9MiBrZXlpbnQ9MjUwIGtleWludF9taW49MjUgc2NlbmVjdXQ9NDAgaW50cmFfcmVmcmVzaD0wIHJjX2xvb2thaGVhZD00MCByYz1jcmYgbWJ0cmVlPTEgY3JmPTIzLjAgcWNvbXA9MC42MCBxcG1pbj0wIHFwbWF4PTY5IHFwc3RlcD00IGlwX3JhdGlvPTEuNDAgYXE9MToxLjAwAIAAAAFaZYiEADf//vaH+BTZWBP+Wb/9DX/cj9uPrP1xYyEE31qvIejAGS+1H+b/rFFs6Z6UB/fgCJQAc24ZwpJw4v/ApLdW+BTLYTkUN74gkojRGGFHUxEl024Ikswmp7CuUGJBPoYhFbb34jkAAAsc3jRnedyS/Z3DXf9/Qpr6gNXBvhxZkWFhfAu7NVewu4r1Cdgfw4qoYODdIoFsmL4yT1B1DAqkSoaxHvwWGhtIFjek2dchVgwpiPmOSI2OrCItRk2EL5SA6PQiOlKvtV6uv3VqwfcR8aqYGxZuVNarBgrb3Az5wL+7jYP7LeDjZyMV9j5iktiShxndSv0s9ESeqXEeQwdcUdDVgupqMn8VubJI9TnSsoctPuhVJqwW4DjZ1kgQ6XxbYM+DiPEnDJDAFpZJv2kjj85hcL6ScWG6I5hfEReANys+by2bvg17PUiLOwlSviQBKIwpcACYgQAAAB5BmiJsQ3/+p4QBdPSjSvgU0VtHwKW/ffgU0mwh8k4AAAAaAZ5BeQr/AStXscyvk/cyx6uVzKifDkiqzZkAAAAQQZpEPCGTKYQ3//6nhAABJwAAABoBnmNqQr8BK1exzK+T9zLHq5XMqJ8OSKrNmQAAABJBmmZJ4Q8mUwU8N//+p4QAAScAAAAaAZ6FakK/AStXscyvk/cyx6uVzKifDkiqzZkAAAASQZqISeEPJlMFPDf//qeEAAEnAAAAGgGep2pCvwErV7HMr5P3Mserlcyonw5Iqs2YAAAAEkGaqknhDyZTBTw3//6nhAABJwAAABoBnslqQr8BK1exzK+T9zLHq5XMqJ8OSKrNmQAAABJBmsxJ4Q8mUwU8N//+p4QAAScAAAAaAZ7rakK/AStXscyvk/cyx6uVzKifDkiqzZgAAAASQZruSeEPJlMFPDf//qeEAAEnAAAAGgGfDWpCvwErV7HMr5P3Mserlcyonw5Iqs2ZAAAAEkGbEEnhDyZTBTw3//6nhAABJwAAABoBny9qQr8BK1exzK+T9zLHq5XMqJ8OSKrNmAAAABJBmzJJ4Q8mUwU8N//+p4QAAScAAAAaAZ9RakK/AStXscyvk/cyx6uVzKifDkiqzZkAAAASQZtUSeEPJlMFPDf//qeEAAEnAAAAGgGfc2pCvwErV7HMr5P3Mserlcyonw5Iqs2YAAAAEkGbdknhDyZTBTw3//6nhAABJwAAABoBn5VqQr8BK1exzK+T9zLHq5XMqJ8OSKrNmAAAABJBm5hJ4Q8mUwU8N//+p4QAAScAAAAaAZ+3akK/AStXscyvk/cyx6uVzKifDkiqzZkAAAASQZu6SeEPJlMFPDf//qeEAAEnAAAAGgGf2WpCvwErV7HMr5P3Mserlcyonw5Iqs2ZAAAAEkGb3EnhDyZTBTw3//6nhAABJwAAABoBn/tqQr8BK1exzK+T9zLHq5XMqJ8OSKrNmQAAABJBm/5J4Q8mUwU8N//+p4QAAScAAAAaAZ4dakK/AStXscyvk/cyx6uVzKifDkiqzZgAAAASQZoASeEPJlMFPDf//qeEAAEnAAAAGgGeP2pCvwErV7HMr5P3Mserlcyonw5Iqs2ZAAAAEkGaIknhDyZTBTw3//6nhAABJwAAABoBnkFqQr8BK1exzK+T9zLHq5XMqJ8OSKrNmQAAABJBmkRJ4Q8mUwU8N//+p4QAAScAAAAaAZ5jakK/AStXscyvk/cyx6uVzKifDkiqzZkAAAASQZpmSeEPJlMFPDf//qeEAAEnAAAAGgGehWpCvwErV7HMr5P3Mserlcyonw5Iqs2ZAAAAEkGaiEnhDyZTBTw3//6nhAABJwAAABoBnqdqQr8BK1exzK+T9zLHq5XMqJ8OSKrNmAAAABJBmqpJ4Q8mUwU8N//+p4QAAScAAAAaAZ7JakK/AStXscyvk/cyx6uVzKifDkiqzZkAAAASQZrMSeEPJlMFPDf//qeEAAEnAAAAGgGe62pCvwErV7HMr5P3Mserlcyonw5Iqs2YAAAAEkGa7knhDyZTBTw3//6nhAABJwAAABoBnw1qQr8BK1exzK+T9zLHq5XMqJ8OSKrNmQAAABJBmxBJ4Q8mUwU8N//+p4QAAScAAAAaAZ8vakK/AStXscyvk/cyx6uVzKifDkiqzZgAAAASQZsySeEPJlMFPDf//qeEAAEnAAAAGgGfUWpCvwErV7HMr5P3Mserlcyonw5Iqs2ZAAAAEkGbVEnhDyZTBTw3//6nhAABJwAAABoBn3NqQr8BK1exzK+T9zLHq5XMqJ8OSKrNmAAAABJBm3ZJ4Q8mUwU8N//+p4QAAScAAAAaAZ+VakK/AStXscyvk/cyx6uVzKifDkiqzZgAAAASQZuYSeEPJlMFPDf//qeEAAEnAAAAGgGft2pCvwErV7HMr5P3Mserlcyonw5Iqs2ZAAAAEkGbuknhDyZTBTw3//6nhAABJwAAABoBn9lqQr8BK1exzK+T9zLHq5XMqJ8OSKrNmQAAABJBm9xJ4Q8mUwU8N//+p4QAAScAAAAaAZ/7akK/AStXscyvk/cyx6uVzKifDkiqzZkAAAASQZv+SeEPJlMFPDf//qeEAAEnAAAAGgGeHWpCvwErV7HMr5P3Mserlcyonw5Iqs2YAAAAEkGaAEnhDyZTBTw3//6nhAABJwAAABoBnj9qQr8BK1exzK+T9zLHq5XMqJ8OSKrNmQAAABJBmiJJ4Q8mUwU8N//+p4QAAScAAAAaAZ5BakK/AStXscyvk/cyx6uVzKifDkiqzZkAAAASQZpESeEPJlMFPDf//qeEAAEnAAAAGgGeY2pCvwErV7HMr5P3Mserlcyonw5Iqs2ZAAAAEkGaZknhDyZTBTw3//6nhAABJwAAABoBnoVqQr8BK1exzK+T9zLHq5XMqJ8OSKrNmQAAABJBmohJ4Q8mUwU8N//+p4QAAScAAAAaAZ6nakK/AStXscyvk/cyx6uVzKifDkiqzZgAAAASQZqqSeEPJlMFPDf//qeEAAEnAAAAGgGeyWpCvwErV7HMr5P3Mserlcyonw5Iqs2ZAAAAEkGazEnhDyZTBTw3//6nhAABJwAAABoBnutqQr8BK1exzK+T9zLHq5XMqJ8OSKrNmAAAABJBmu5J4Q8mUwU8N//+p4QAAScAAAAaAZ8NakK/AStXscyvk/cyx6uVzKifDkiqzZkAAAASQZsQSeEPJlMFPDf//qeEAAEnAAAAGgGfL2pCvwErV7HMr5P3Mserlcyonw5Iqs2YAAAAEkGbMknhDyZTBTw3//6nhAABJwAAABoBn1FqQr8BK1exzK+T9zLHq5XMqJ8OSKrNmQAAABJBm1RJ4Q8mUwU8N//+p4QAAScAAAAaAZ9zakK/AStXscyvk/cyx6uVzKifDkiqzZgAAAASQZt2SeEPJlMFPDf//qeEAAEnAAAAGgGflWpCvwErV7HMr5P3Mserlcyonw5Iqs2YAAAAEkGbmEnhDyZTBTw3//6nhAABJwAAABoBn7dqQr8BK1exzK+T9zLHq5XMqJ8OSKrNmQAAABJBm7pJ4Q8mUwU8N//+p4QAAScAAAAaAZ/ZakK/AStXscyvk/cyx6uVzKifDkiqzZkAAAASQZvcSeEPJlMFPDf//qeEAAEnAAAAGgGf+2pCvwErV7HMr5P3Mserlcyonw5Iqs2ZAAAAEkGb/knhDyZTBTw3//6nhAABJwAAABoBnh1qQr8BK1exzK+T9zLHq5XMqJ8OSKrNmAAAABJBmgBJ4Q8mUwU8N//+p4QAAScAAAAaAZ4/akK/AStXscyvk/cyx6uVzKifDkiqzZkAAAASQZoiSeEPJlMFPDf//qeEAAEnAAAAGgGeQWpCvwErV7HMr5P3Mserlcyonw5Iqs2ZAAAAEkGaREnhDyZTBTw3//6nhAABJwAAABoBnmNqQr8BK1exzK+T9zLHq5XMqJ8OSKrNmQAAABJBmmZJ4Q8mUwU8N//+p4QAAScAAAAaAZ6FakK/AStXscyvk/cyx6uVzKifDkiqzZkAAAASQZqISeEPJlMFPDf//qeEAAEnAAAAGgGep2pCvwErV7HMr5P3Mserlcyonw5Iqs2YAAAAEkGaqknhDyZTBTw3//6nhAABJwAAABoBnslqQr8BK1exzK+T9zLHq5XMqJ8OSKrNmQAAABJBmsxJ4Q8mUwU8N//+p4QAAScAAAAaAZ7rakK/AStXscyvk/cyx6uVzKifDkiqzZgAAAASQZruSeEPJlMFPDf//qeEAAEnAAAAGgGfDWpCvwErV7HMr5P3Mserlcyonw5Iqs2ZAAAAEkGbEEnhDyZTBTw3//6nhAABJwAAABoBny9qQr8BK1exzK+T9zLHq5XMqJ8OSKrNmAAAABJBmzJJ4Q8mUwU8N//+p4QAAScAAAAaAZ9RakK/AStXscyvk/cyx6uVzKifDkiqzZkAAAASQZtUSeEPJlMFPDf//qeEAAEnAAAAGgGfc2pCvwErV7HMr5P3Mserlcyonw5Iqs2YAAAAEkGbdknhDyZTBTw3//6nhAABJwAAABoBn5VqQr8BK1exzK+T9zLHq5XMqJ8OSKrNmAAAABJBm5hJ4Q8mUwU8N//+p4QAAScAAAAaAZ+3akK/AStXscyvk/cyx6uVzKifDkiqzZkAAAASQZu6SeEPJlMFPDf//qeEAAEnAAAAGgGf2WpCvwErV7HMr5P3Mserlcyonw5Iqs2ZAAAAEkGb3EnhDyZTBTw3//6nhAABJwAAABoBn/tqQr8BK1exzK+T9zLHq5XMqJ8OSKrNmQAAABJBm/5J4Q8mUwU8N//+p4QAAScAAAAaAZ4dakK/AStXscyvk/cyx6uVzKifDkiqzZgAAAASQZoASeEPJlMFPDf//qeEAAEnAAAAGgGeP2pCvwErV7HMr5P3Mserlcyonw5Iqs2ZAAAAEkGaIknhDyZTBTw3//6nhAABJwAAABoBnkFqQr8BK1exzK+T9zLHq5XMqJ8OSKrNmQAAABJBmkRJ4Q8mUwU8N//+p4QAAScAAAAaAZ5jakK/AStXscyvk/cyx6uVzKifDkiqzZkAAAASQZpmSeEPJlMFPDf//qeEAAEnAAAAGgGehWpCvwErV7HMr5P3Mserlcyonw5Iqs2ZAAAAEkGaiEnhDyZTBTw3//6nhAABJwAAABoBnqdqQr8BK1exzK+T9zLHq5XMqJ8OSKrNmAAAABJBmqpJ4Q8mUwU8N//+p4QAAScAAAAaAZ7JakK/AStXscyvk/cyx6uVzKifDkiqzZkAAAASQZrMSeEPJlMFPDf//qeEAAEnAAAAGgGe62pCvwErV7HMr5P3Mserlcyonw5Iqs2YAAAAEkGa7knhDyZTBTw3//6nhAABJwAAABoBnw1qQr8BK1exzK+T9zLHq5XMqJ8OSKrNmQAAABJBmxBJ4Q8mUwU8N//+p4QAAScAAAAaAZ8vakK/AStXscyvk/cyx6uVzKifDkiqzZgAAAASQZsySeEPJlMFPDf//qeEAAEnAAAAGgGfUWpCvwErV7HMr5P3Mserlcyonw5Iqs2ZAAAAEkGbVEnhDyZTBTw3//6nhAABJwAAABoBn3NqQr8BK1exzK+T9zLHq5XMqJ8OSKrNmAAAABJBm3ZJ4Q8mUwU8N//+p4QAAScAAAAaAZ+VakK/AStXscyvk/cyx6uVzKifDkiqzZgAAAASQZuYSeEPJlMFPDf//qeEAAEnAAAAGgGft2pCvwErV7HMr5P3Mserlcyonw5Iqs2ZAAAAEkGbuknhDyZTBTw3//6nhAABJwAAABoBn9lqQr8BK1exzK+T9zLHq5XMqJ8OSKrNmQAAABJBm9xJ4Q8mUwU8N//+p4QAAScAAAAaAZ/7akK/AStXscyvk/cyx6uVzKifDkiqzZkAAAASQZv+SeEPJlMFPDf//qeEAAEnAAAAGgGeHWpCvwErV7HMr5P3Mserlcyonw5Iqs2YAAAAEkGaAEnhDyZTBTw3//6nhAABJwAAABoBnj9qQr8BK1exzK+T9zLHq5XMqJ8OSKrNmQAAABJBmiJJ4Q8mUwU8N//+p4QAAScAAAAaAZ5BakK/AStXscyvk/cyx6uVzKifDkiqzZkAAAASQZpESeEPJlMFPDf//qeEAAEnAAAAGgGeY2pCvwErV7HMr5P3Mserlcyonw5Iqs2ZAAAAEkGaZknhDyZTBTw3//6nhAABJwAAABoBnoVqQr8BK1exzK+T9zLHq5XMqJ8OSKrNmQAAABJBmohJ4Q8mUwU8N//+p4QAAScAAAAaAZ6nakK/AStXscyvk/cyx6uVzKifDkiqzZgAAAASQZqqSeEPJlMFPDf//qeEAAEnAAAAGgGeyWpCvwErV7HMr5P3Mserlcyonw5Iqs2ZAAAAEkGazEnhDyZTBTw3//6nhAABJwAAABoBnutqQr8BK1exzK+T9zLHq5XMqJ8OSKrNmAAAABJBmu5J4Q8mUwU8N//+p4QAAScAAAAaAZ8NakK/AStXscyvk/cyx6uVzKifDkiqzZkAAAASQZsQSeEPJlMFPDf//qeEAAEnAAAAGgGfL2pCvwErV7HMr5P3Mserlcyonw5Iqs2YAAAAEkGbMknhDyZTBTw3//6nhAABJwAAABoBn1FqQr8BK1exzK+T9zLHq5XMqJ8OSKrNmQAAABJBm1RJ4Q8mUwU8N//+p4QAAScAAAAaAZ9zakK/AStXscyvk/cyx6uVzKifDkiqzZgAAAASQZt2SeEPJlMFPDf//qeEAAEnAAAAGgGflWpCvwErV7HMr5P3Mserlcyonw5Iqs2YAAAAEkGbmEnhDyZTBTw3//6nhAABJwAAABoBn7dqQr8BK1exzK+T9zLHq5XMqJ8OSKrNmQAAABJBm7pJ4Q8mUwU8N//+p4QAAScAAAAaAZ/ZakK/AStXscyvk/cyx6uVzKifDkiqzZkAAAASQZvcSeEPJlMFPDf//qeEAAEnAAAAGgGf+2pCvwErV7HMr5P3Mserlcyonw5Iqs2ZAAAAEkGb/knhDyZTBTw3//6nhAABJwAAABoBnh1qQr8BK1exzK+T9zLHq5XMqJ8OSKrNmAAAABJBmgBJ4Q8mUwU8N//+p4QAAScAAAAaAZ4/akK/AStXscyvk/cyx6uVzKifDkiqzZkAAAASQZoiSeEPJlMFPDf//qeEAAEnAAAAGgGeQWpCvwErV7HMr5P3Mserlcyonw5Iqs2ZAAAAEkGaREnhDyZTBTwz//6eEAAEfAAAABoBnmNqQr8BK1exzK+T9zLHq5XMqJ8OSKrNmQAAABJBmmZJ4Q8mUwU8M//+nhAABH0AAAAaAZ6FakK/AStXscyvk/cyx6uVzKifDkiqzZkAAAASQZqISeEPJlMFPC///oywAASNAAAAGgGep2pCvwErV7HMr5P3Mserlcyonw5Iqs2YAAAAGkGaqUvhCEPJEYIKAfyAf2HgCFf//jhAABFwAAAMiG1vb3YAAABsbXZoZAAAAAAAAAAAAAAAAAAAA+gAAB+QAAEAAAEAAAAAAAAAAAAAAAABAAAAAAAAAAAAAAAAAAAAAQAAAAAAAAAAAAAAAAAAQAAAAAAAAAAAAAAAAAAAAAAAAAAAAAAAAAAAAAAAAAIAAAuydHJhawAAAFx0a2hkAAAAAwAAAAAAAAAAAAAAAQAAAAAAAB+QAAAAAAAAAAAAAAAAAAAAAAABAAAAAAAAAAAAAAAAAAAAAQAAAAAAAAAAAAAAAAAAQAAAAAEQAAABEAAAAAAAJGVkdHMAAAAcZWxzdAAAAAAAAAABAAAfkAAABAAAAQAAAAALKm1kaWEAAAAgbWRoZAAAAAAAAAAAAAAAAAAAMgAAAZQAVcQAAAAAAC1oZGxyAAAAAAAAAAB2aWRlAAAAAAAAAAAAAAAAVmlkZW9IYW5kbGVyAAAACtVtaW5mAAAAFHZtaGQAAAABAAAAAAAAAAAAAAAkZGluZgAAABxkcmVmAAAAAAAAAAEAAAAMdXJsIAAAAAEAAAqVc3RibAAAAJVzdHNkAAAAAAAAAAEAAACFYXZjMQAAAAAAAAABAAAAAAAAAAAAAAAAAAAAAAEQARAASAAAAEgAAAAAAAAAAQAAAAAAAAAAAAAAAAAAAAAAAAAAAAAAAAAAAAAAAAAAABj//wAAAC9hdmNDAfQADf/hABdn9AANkZsoIhHQgAAAAwCAAAAZB4oUywEABWjr48RIAAAAGHN0dHMAAAAAAAAAAQAAAMoAAAIAAAAAFHN0c3MAAAAAAAAAAQAAAAEAAAZgY3R0cwAAAAAAAADKAAAAAQAABAAAAAABAAAGAAAAAAEAAAIAAAAAAQAABgAAAAABAAACAAAAAAEAAAYAAAAAAQAAAgAAAAABAAAGAAAAAAEAAAIAAAAAAQAABgAAAAABAAACAAAAAAEAAAYAAAAAAQAAAgAAAAABAAAGAAAAAAEAAAIAAAAAAQAABgAAAAABAAACAAAAAAEAAAYAAAAAAQAAAgAAAAABAAAGAAAAAAEAAAIAAAAAAQAABgAAAAABAAACAAAAAAEAAAYAAAAAAQAAAgAAAAABAAAGAAAAAAEAAAIAAAAAAQAABgAAAAABAAACAAAAAAEAAAYAAAAAAQAAAgAAAAABAAAGAAAAAAEAAAIAAAAAAQAABgAAAAABAAACAAAAAAEAAAYAAAAAAQAAAgAAAAABAAAGAAAAAAEAAAIAAAAAAQAABgAAAAABAAACAAAAAAEAAAYAAAAAAQAAAgAAAAABAAAGAAAAAAEAAAIAAAAAAQAABgAAAAABAAACAAAAAAEAAAYAAAAAAQAAAgAAAAABAAAGAAAAAAEAAAIAAAAAAQAABgAAAAABAAACAAAAAAEAAAYAAAAAAQAAAgAAAAABAAAGAAAAAAEAAAIAAAAAAQAABgAAAAABAAACAAAAAAEAAAYAAAAAAQAAAgAAAAABAAAGAAAAAAEAAAIAAAAAAQAABgAAAAABAAACAAAAAAEAAAYAAAAAAQAAAgAAAAABAAAGAAAAAAEAAAIAAAAAAQAABgAAAAABAAACAAAAAAEAAAYAAAAAAQAAAgAAAAABAAAGAAAAAAEAAAIAAAAAAQAABgAAAAABAAACAAAAAAEAAAYAAAAAAQAAAgAAAAABAAAGAAAAAAEAAAIAAAAAAQAABgAAAAABAAACAAAAAAEAAAYAAAAAAQAAAgAAAAABAAAGAAAAAAEAAAIAAAAAAQAABgAAAAABAAACAAAAAAEAAAYAAAAAAQAAAgAAAAABAAAGAAAAAAEAAAIAAAAAAQAABgAAAAABAAACAAAAAAEAAAYAAAAAAQAAAgAAAAABAAAGAAAAAAEAAAIAAAAAAQAABgAAAAABAAACAAAAAAEAAAYAAAAAAQAAAgAAAAABAAAGAAAAAAEAAAIAAAAAAQAABgAAAAABAAACAAAAAAEAAAYAAAAAAQAAAgAAAAABAAAGAAAAAAEAAAIAAAAAAQAABgAAAAABAAACAAAAAAEAAAYAAAAAAQAAAgAAAAABAAAGAAAAAAEAAAIAAAAAAQAABgAAAAABAAACAAAAAAEAAAYAAAAAAQAAAgAAAAABAAAGAAAAAAEAAAIAAAAAAQAABgAAAAABAAACAAAAAAEAAAYAAAAAAQAAAgAAAAABAAAGAAAAAAEAAAIAAAAAAQAABgAAAAABAAACAAAAAAEAAAYAAAAAAQAAAgAAAAABAAAGAAAAAAEAAAIAAAAAAQAABgAAAAABAAACAAAAAAEAAAYAAAAAAQAAAgAAAAABAAAGAAAAAAEAAAIAAAAAAQAABgAAAAABAAACAAAAAAEAAAYAAAAAAQAAAgAAAAABAAAGAAAAAAEAAAIAAAAAAQAABgAAAAABAAACAAAAAAEAAAYAAAAAAQAAAgAAAAABAAAGAAAAAAEAAAIAAAAAAQAABgAAAAABAAACAAAAAAEAAAYAAAAAAQAAAgAAAAABAAAGAAAAAAEAAAIAAAAAAQAABgAAAAABAAACAAAAAAEAAAYAAAAAAQAAAgAAAAABAAAGAAAAAAEAAAIAAAAAAQAABgAAAAABAAACAAAAAAEAAAYAAAAAAQAAAgAAAAABAAAGAAAAAAEAAAIAAAAAAQAABgAAAAABAAACAAAAAAEAAAYAAAAAAQAAAgAAAAABAAAGAAAAAAEAAAIAAAAAAQAABgAAAAABAAACAAAAAAEAAAYAAAAAAQAAAgAAAAABAAAGAAAAAAEAAAIAAAAAAQAABgAAAAABAAACAAAAAAEAAAYAAAAAAQAAAgAAAAABAAAGAAAAAAEAAAIAAAAAAQAABgAAAAABAAACAAAAAAEAAAYAAAAAAQAAAgAAAAABAAAGAAAAAAEAAAIAAAAAAQAABgAAAAABAAACAAAAAAEAAAYAAAAAAQAAAgAAAAABAAAGAAAAAAEAAAIAAAAAAQAABAAAAAAcc3RzYwAAAAAAAAABAAAAAQAAAMoAAAABAAADPHN0c3oAAAAAAAAAAAAAAMoAAAQPAAAAIgAAAB4AAAAUAAAAHgAAABYAAAAeAAAAFgAAAB4AAAAWAAAAHgAAABYAAAAeAAAAFgAAAB4AAAAWAAAAHgAAABYAAAAeAAAAFgAAAB4AAAAWAAAAHgAAABYAAAAeAAAAFgAAAB4AAAAWAAAAHgAAABYAAAAeAAAAFgAAAB4AAAAWAAAAHgAAABYAAAAeAAAAFgAAAB4AAAAWAAAAHgAAABYAAAAeAAAAFgAAAB4AAAAWAAAAHgAAABYAAAAeAAAAFgAAAB4AAAAWAAAAHgAAABYAAAAeAAAAFgAAAB4AAAAWAAAAHgAAABYAAAAeAAAAFgAAAB4AAAAWAAAAHgAAABYAAAAeAAAAFgAAAB4AAAAWAAAAHgAAABYAAAAeAAAAFgAAAB4AAAAWAAAAHgAAABYAAAAeAAAAFgAAAB4AAAAWAAAAHgAAABYAAAAeAAAAFgAAAB4AAAAWAAAAHgAAABYAAAAeAAAAFgAAAB4AAAAWAAAAHgAAABYAAAAeAAAAFgAAAB4AAAAWAAAAHgAAABYAAAAeAAAAFgAAAB4AAAAWAAAAHgAAABYAAAAeAAAAFgAAAB4AAAAWAAAAHgAAABYAAAAeAAAAFgAAAB4AAAAWAAAAHgAAABYAAAAeAAAAFgAAAB4AAAAWAAAAHgAAABYAAAAeAAAAFgAAAB4AAAAWAAAAHgAAABYAAAAeAAAAFgAAAB4AAAAWAAAAHgAAABYAAAAeAAAAFgAAAB4AAAAWAAAAHgAAABYAAAAeAAAAFgAAAB4AAAAWAAAAHgAAABYAAAAeAAAAFgAAAB4AAAAWAAAAHgAAABYAAAAeAAAAFgAAAB4AAAAWAAAAHgAAABYAAAAeAAAAFgAAAB4AAAAWAAAAHgAAABYAAAAeAAAAFgAAAB4AAAAWAAAAHgAAABYAAAAeAAAAFgAAAB4AAAAWAAAAHgAAABYAAAAeAAAAFgAAAB4AAAAWAAAAHgAAABYAAAAeAAAAFgAAAB4AAAAWAAAAHgAAABYAAAAeAAAAFgAAAB4AAAAWAAAAHgAAABYAAAAeAAAAFgAAAB4AAAAeAAAAFHN0Y28AAAAAAAAAAQAAADAAAABidWR0YQAAAFptZXRhAAAAAAAAACFoZGxyAAAAAAAAAABtZGlyYXBwbAAAAAAAAAAAAAAAAC1pbHN0AAAAJal0b28AAAAdZGF0YQAAAAEAAAAATGF2ZjU4LjI2LjEwMA==\" type=\"video/mp4\" />\n",
       "             </video>"
      ],
      "text/plain": [
       "<IPython.core.display.HTML object>"
      ]
     },
     "execution_count": 19,
     "metadata": {},
     "output_type": "execute_result"
    }
   ],
   "source": [
    "HTML(display_videos('fc_test10.mp4'))"
   ]
  },
  {
   "cell_type": "markdown",
   "metadata": {},
   "source": [
    "Normally in these tests, the CNN has been getting better results, but they are almost the same as the FC (sometimes one gets bigger than the other, but not always). Also, I can see that the CNN model delays a bit more than the FCC in processing. We see that the mouse has a rare behaviour when he's in a place where there are no more rewards or mushrooms. He comes and goes so he mantains safe and it's not exploring too much (or goes around before doing it).\n",
    "\n",
    "If we check the temperature variable, when we increase it from 0.3 to 0.9 (the other cell added), we can see that the results improved in both models and the average results in negative decreased. I deduct that this is because we when temperature increases, there is more options or getting rewards (also mushrooms) but it helps us to get more positive points to improve our overall performance."
   ]
  },
  {
   "cell_type": "markdown",
   "metadata": {},
   "source": [
    "***\n",
    "\n",
    "The algorithm tends to not explore the map which can be an issue. We propose two ideas in order to encourage exploration:\n",
    "1. Incorporating a decreasing $\\epsilon$-greedy exploration. You can use the method ```set_epsilon```\n",
    "2. Append via the environment a new state that describes if a cell has been visited or not\n",
    "\n",
    "***\n",
    "__Question 10__ Design a new ```train_explore``` function and environment class ```EnvironmentExploring``` to tackle the issue of exploration.\n",
    "\n"
   ]
  },
  {
   "cell_type": "code",
   "execution_count": 20,
   "metadata": {},
   "outputs": [],
   "source": [
    "# Based on what the book \"An Introduction to Reinforcement Learning\", the e-greedy methods take more exploration\n",
    "# to find the optimal action with noisy rewards (in our case the mushrooms), but they are better than the greedy\n",
    "# methods. Also it mentions: \"The e = 0.1 method explored more, and usually found the optimal action earlier, but\n",
    "# it never selected that action more than 91% of the time. The e = 0.01 method improved more slowly, but eventually\n",
    "# would perform better than the e = 0.1 method on both performance measures\".\n",
    "\n",
    "# Considering this, I will apply a decreasing epsilon based on how time passes. This is applied in the \"set_epsilon\" function.\n",
    "\n",
    "def train_explore(agent,env,epoch,prefix=''):\n",
    "# Using the previous model we got from previous questions, I build the train function.\n",
    "# Number of won games\n",
    "    score = 0\n",
    "    loss = 0\n",
    "\n",
    "    for e in range(epoch):\n",
    "        # At each epoch, we restart to a fresh game and get the initial state\n",
    "        state = env.reset()\n",
    "        # This assumes that the games will terminate\n",
    "        game_over = False\n",
    "\n",
    "        win = 0\n",
    "        lose = 0\n",
    "\n",
    "        # I call the agent to work with the epsilon that will vary every time I set the epsilon.\n",
    "        agent.set_epsilon(agent.epsilon)\n",
    "        \n",
    "        while not game_over:\n",
    "            # The agent performs an action\n",
    "            action = agent.act(state)\n",
    "\n",
    "            # Apply an action to the environment, get the next state, the reward\n",
    "            # and if the games end\n",
    "            prev_state = state\n",
    "            state, reward, game_over = env.act(action, train=True)\n",
    "\n",
    "            # Update the counters\n",
    "            if reward > 0:\n",
    "                win = win + reward\n",
    "            if reward < 0:\n",
    "                lose = lose -reward\n",
    "\n",
    "            # Apply the reinforcement strategy\n",
    "            loss = agent.reinforce(prev_state, state,  action, reward, game_over)\n",
    "\n",
    "        # Save as a mp4\n",
    "        if e==10:\n",
    "            env.draw(prefix+str(e))\n",
    "\n",
    "        # Update stats\n",
    "        score += win-lose\n",
    "\n",
    "        print(\"Epoch {:03d}/{:03d} | Loss {:.4f} | Win/lose count {}/{} ({})\"\n",
    "              .format(e, epoch, loss, win, lose, win-lose))\n",
    "        agent.save(name_weights=prefix+'model.h5',name_model=prefix+'model.json')\n",
    "\n",
    "## use those samples of code:\n",
    "#In train explore:\n",
    "#state, reward, game_over = env.act(action, train=True)\n",
    "\n",
    "class EnvironmentExploring(object):\n",
    "    def __init__(self, grid_size=10, max_time=500, temperature=0.1):\n",
    "        grid_size = grid_size+4\n",
    "        self.grid_size = grid_size\n",
    "        self.max_time = max_time\n",
    "        self.temperature = temperature\n",
    "\n",
    "        #board on which one plays\n",
    "        self.board = np.zeros((grid_size,grid_size))\n",
    "        self.position = np.zeros((grid_size,grid_size))\n",
    "        \n",
    "        # Adding the board for the visited cells\n",
    "        self.malus_position = np.zeros((grid_size,grid_size))\n",
    "\n",
    "        # coordinate of the cat\n",
    "        self.x = 0\n",
    "        self.y = 1\n",
    "\n",
    "        # self time\n",
    "        self.t = 0\n",
    "\n",
    "        self.scale=16\n",
    "\n",
    "        self.to_draw = np.zeros((max_time+2, grid_size*self.scale, grid_size*self.scale, 3))\n",
    "\n",
    "\n",
    "    def draw(self,e):\n",
    "        skvideo.io.vwrite(str(e) + '.mp4', self.to_draw)\n",
    "\n",
    "    def get_frame(self,t):\n",
    "        b = np.zeros((self.grid_size,self.grid_size,3))+128\n",
    "        b[self.board>0,0] = 256\n",
    "        b[self.board < 0, 2] = 256\n",
    "        b[self.x,self.y,:]=256\n",
    "        b[-2:,:,:]=0\n",
    "        b[:,-2:,:]=0\n",
    "        b[:2,:,:]=0\n",
    "        b[:,:2,:]=0\n",
    "        \n",
    "        b =  cv2.resize(b, None, fx=self.scale, fy=self.scale, interpolation=cv2.INTER_NEAREST)\n",
    "\n",
    "        self.to_draw[t,:,:,:]=b\n",
    "\n",
    "\n",
    "    def act(self, action, train = True):\n",
    "        \"\"\"This function returns the new state, reward and decides if the\n",
    "        game ends.\"\"\"\n",
    "\n",
    "        self.get_frame(int(self.t))\n",
    "\n",
    "        self.position = np.zeros((self.grid_size, self.grid_size))\n",
    "\n",
    "        self.position[0:2,:]= -1\n",
    "        self.position[:,0:2] = -1\n",
    "        self.position[-2:, :] = -1\n",
    "        self.position[:,-2:] = -1\n",
    "\n",
    "        self.position[self.x, self.y] = 1\n",
    "        if action == 0:\n",
    "            if self.x == self.grid_size-3:\n",
    "                self.x = self.x-1\n",
    "            else:\n",
    "                self.x = self.x + 1\n",
    "        elif action == 1:\n",
    "            if self.x == 2:\n",
    "                self.x = self.x+1\n",
    "            else:\n",
    "                self.x = self.x-1\n",
    "        elif action == 2:\n",
    "            if self.y == self.grid_size - 3:\n",
    "                self.y = self.y - 1\n",
    "            else:\n",
    "                self.y = self.y + 1\n",
    "        elif action == 3:\n",
    "            if self.y == 2:\n",
    "                self.y = self.y + 1\n",
    "            else:\n",
    "                self.y = self.y - 1\n",
    "        else:\n",
    "            RuntimeError('Error: action not recognized')\n",
    "\n",
    "        self.t = self.t + 1\n",
    "        \n",
    "        # I add here the additional state matrix considering if it's visited or not.\n",
    "        \n",
    "        ########### Inclusion for visit cell ##########\n",
    "        reward = 0\n",
    "        if train:\n",
    "            reward = -self.malus_position[self.x, self.y]\n",
    "        self.malus_position[self.x, self.y] = 0.1 #I registered the value to show this cell was visited\n",
    "        reward = reward + self.board[self.x, self.y]\n",
    "        ##############################################\n",
    "        \n",
    "        #reward = self.board[self.x, self.y]        \n",
    "        self.board[self.x, self.y] = 0\n",
    "        game_over = self.t > self.max_time\n",
    "        \n",
    "        # I include the malus_position matrix in the state matrix to see which was visited.\n",
    "        state = np.concatenate((self.malus_position.reshape(self.grid_size, self.grid_size,1),\n",
    "            self.board.reshape(self.grid_size, self.grid_size,1),\n",
    "                        self.position.reshape(self.grid_size, self.grid_size,1)),axis=2)\n",
    "        state = state[self.x-2:self.x+3,self.y-2:self.y+3,:]\n",
    "\n",
    "        return state, reward, game_over\n",
    "\n",
    "    def reset(self):\n",
    "        \"\"\"This function resets the game and returns the initial state\"\"\"\n",
    "\n",
    "        self.x = np.random.randint(3, self.grid_size-3, size=1)[0]\n",
    "        self.y = np.random.randint(3, self.grid_size-3, size=1)[0]\n",
    "\n",
    "        bonus = 0.5*np.random.binomial(1,self.temperature,size=self.grid_size**2)\n",
    "        bonus = bonus.reshape(self.grid_size,self.grid_size)\n",
    "\n",
    "        malus = -1.0*np.random.binomial(1,self.temperature,size=self.grid_size**2)\n",
    "        malus = malus.reshape(self.grid_size, self.grid_size)\n",
    "\n",
    "        self.to_draw = np.zeros((self.max_time+2, self.grid_size*self.scale, self.grid_size*self.scale, 3))\n",
    "\n",
    "\n",
    "        malus[bonus>0]=0\n",
    "\n",
    "        self.board = bonus + malus\n",
    "\n",
    "        self.position = np.zeros((self.grid_size, self.grid_size))\n",
    "        self.position[0:2,:]= -1\n",
    "        self.position[:,0:2] = -1\n",
    "        self.position[-2:, :] = -1\n",
    "        self.position[:, -2:] = -1\n",
    "        self.board[self.x,self.y] = 0\n",
    "        self.t = 0\n",
    "\n",
    "        # I include the malus_position matrix in the state matrix to see which was visited.\n",
    "        state = np.concatenate((self.malus_position.reshape(self.grid_size, self.grid_size,1),\n",
    "                               self.board.reshape(self.grid_size, self.grid_size,1),\n",
    "                        self.position.reshape(self.grid_size, self.grid_size,1)),axis=2)\n",
    "\n",
    "        state = state[self.x - 2:self.x + 3, self.y - 2:self.y + 3, :]\n",
    "        return state\n",
    "\n",
    "## In Environment exploring:\n",
    "# You will have to change n_state to 3 because you will use one more layer!\n",
    "#reward = 0\n",
    "#if train:\n",
    "#    reward = -self.malus_position[self.x, self.y]\n",
    "#self.malus_position[self.x, self.y] = 0.1\n",
    "\n",
    "#reward = reward + self.board[self.x, self.y]\n",
    "## 3 \"feature\" states instead of 2\n",
    "#state = np.concatenate((self.malus_position.reshape(self.grid_size, self.grid_size,1),\n",
    "#                                self.board.reshape(self.grid_size, self.grid_size,1),\n",
    "#                        self.position.reshape(self.grid_size, self.grid_size,1)),axis=2)"
   ]
  },
  {
   "cell_type": "code",
   "execution_count": 21,
   "metadata": {},
   "outputs": [
    {
     "name": "stdout",
     "output_type": "stream",
     "text": [
      "_________________________________________________________________\n",
      "Layer (type)                 Output Shape              Param #   \n",
      "=================================================================\n",
      "input_7 (InputLayer)         (32, 5, 5, 3)             0         \n",
      "_________________________________________________________________\n",
      "conv2d_7 (Conv2D)            (32, 3, 3, 64)            1792      \n",
      "_________________________________________________________________\n",
      "flatten_7 (Flatten)          (32, 576)                 0         \n",
      "_________________________________________________________________\n",
      "dense_13 (Dense)             (32, 64)                  36928     \n",
      "_________________________________________________________________\n",
      "dense_14 (Dense)             (32, 4)                   260       \n",
      "=================================================================\n",
      "Total params: 38,980\n",
      "Trainable params: 38,980\n",
      "Non-trainable params: 0\n",
      "_________________________________________________________________\n",
      "Epoch 000/011 | Loss 0.0316 | Win/lose count 3.5/22.800000000000065 (-19.300000000000065)\n",
      "Epoch 001/011 | Loss 0.0489 | Win/lose count 4.699999999999999/22.900000000000052 (-18.200000000000053)\n",
      "Epoch 002/011 | Loss 0.0610 | Win/lose count 6.000000000000001/28.60000000000011 (-22.60000000000011)\n",
      "Epoch 003/011 | Loss 0.0517 | Win/lose count 11.000000000000002/29.800000000000093 (-18.80000000000009)\n",
      "Epoch 004/011 | Loss 0.0842 | Win/lose count 9.9/39.000000000000114 (-29.100000000000115)\n",
      "Epoch 005/011 | Loss 0.1424 | Win/lose count 13.900000000000006/32.50000000000009 (-18.600000000000087)\n",
      "Epoch 006/011 | Loss 0.0302 | Win/lose count 7.600000000000002/30.800000000000114 (-23.200000000000113)\n",
      "Epoch 007/011 | Loss 0.1255 | Win/lose count 8.000000000000002/32.100000000000136 (-24.100000000000136)\n",
      "Epoch 008/011 | Loss 0.1723 | Win/lose count 8.000000000000002/37.000000000000156 (-29.000000000000156)\n",
      "Epoch 009/011 | Loss 0.0540 | Win/lose count 6.800000000000002/28.300000000000107 (-21.500000000000107)\n",
      "Epoch 010/011 | Loss 0.2423 | Win/lose count 12.400000000000006/34.90000000000013 (-22.50000000000012)\n"
     ]
    },
    {
     "data": {
      "text/html": [
       "<video alt=\"test\" controls>\n",
       "                <source src=\"data:video/mp4;base64,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\" type=\"video/mp4\" />\n",
       "             </video>"
      ],
      "text/plain": [
       "<IPython.core.display.HTML object>"
      ]
     },
     "execution_count": 21,
     "metadata": {},
     "output_type": "execute_result"
    }
   ],
   "source": [
    "# Training\n",
    "env = EnvironmentExploring(grid_size=size, max_time=T, temperature=0.3)\n",
    "agent = DQN_CNN(size, lr=.1, epsilon = 0.1, memory_size=2000, batch_size = 32,n_state=3)\n",
    "train_explore(agent, env, epochs_train, prefix='cnn_train_explore')\n",
    "HTML(display_videos('cnn_train_explore10.mp4'))"
   ]
  },
  {
   "cell_type": "code",
   "execution_count": 22,
   "metadata": {},
   "outputs": [
    {
     "name": "stdout",
     "output_type": "stream",
     "text": [
      "Win/lose count 0.4/21.00000000000003. Average score (-20.60000000000003)\n",
      "Win/lose count 0.4/22.000000000000043. Average score (-21.100000000000037)\n",
      "Win/lose count 0.4/20.000000000000014. Average score (-20.60000000000003)\n",
      "Win/lose count 0.8/19.900000000000013. Average score (-20.225000000000026)\n",
      "Win/lose count 1.2000000000000002/21.80000000000004. Average score (-20.30000000000003)\n",
      "Win/lose count 0.4/20.000000000000014. Average score (-20.18333333333336)\n",
      "Win/lose count 0.4/21.000000000000032. Average score (-20.24285714285717)\n",
      "Win/lose count 0/21.100000000000033. Average score (-20.350000000000026)\n",
      "Win/lose count 0.4/21.000000000000032. Average score (-20.377777777777805)\n",
      "Win/lose count 0/21.100000000000033. Average score (-20.450000000000024)\n",
      "Win/lose count 0.4/20.000000000000014. Average score (-20.372727272727296)\n",
      "Final score: -20.372727272727296\n"
     ]
    },
    {
     "data": {
      "text/html": [
       "<video alt=\"test\" controls>\n",
       "                <source src=\"data:video/mp4;base64,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\" type=\"video/mp4\" />\n",
       "             </video>"
      ],
      "text/plain": [
       "<IPython.core.display.HTML object>"
      ]
     },
     "execution_count": 22,
     "metadata": {},
     "output_type": "execute_result"
    }
   ],
   "source": [
    "# Evaluation\n",
    "test(agent,env,epochs_test,prefix='cnn_test_explore')\n",
    "HTML(display_videos('cnn_test_explore10.mp4'))"
   ]
  },
  {
   "cell_type": "markdown",
   "metadata": {},
   "source": [
    "***\n",
    "***\n",
    "__BONUS question__ Use the expert DQN from the previous question to generate some winning games. Train a model that mimicks its behavior. Compare the performances."
   ]
  },
  {
   "cell_type": "markdown",
   "metadata": {},
   "source": []
  },
  {
   "cell_type": "markdown",
   "metadata": {},
   "source": [
    "***"
   ]
  }
 ],
 "metadata": {
  "kernelspec": {
   "display_name": "Python 3",
   "language": "python",
   "name": "python3"
  },
  "language_info": {
   "codemirror_mode": {
    "name": "ipython",
    "version": 3
   },
   "file_extension": ".py",
   "mimetype": "text/x-python",
   "name": "python",
   "nbconvert_exporter": "python",
   "pygments_lexer": "ipython3",
   "version": "3.6.7"
  }
 },
 "nbformat": 4,
 "nbformat_minor": 2
}
